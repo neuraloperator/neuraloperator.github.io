{
  "cells": [
    {
      "cell_type": "markdown",
      "metadata": {},
      "source": [
        "\n# A simple Darcy-Flow spectrum analysis\nUsing ``neuralop.utils.spectrum_2d`` to perform spectrum analysis on our small Darcy-Flow example.\n\nThis tutorial demonstrates how to analyze the spectral characteristics of the Darcy-Flow dataset,\nwhich provides insights into the frequency content and energy distribution of the vector fields.\n\nFor more details on spectrum analysis, users can take a look at this reference: \nhttps://www.astronomy.ohio-state.edu/ryden.1/ast825/ch7.pdf\n\n## Short summary\nSpectral analysis is useful because it allows researchers to study the distribution of energy \nacross different scales in a fluid flow. The energy spectrum is analyzed through the Fourier \ntransform, a mathematical tool that decomposes a function or signal into its constituent frequencies. \nIn a fluid flow, it is used to analyze the distribution of energy across different scales in a flow. \n\nSpecifically, the Fourier transform is applied to the velocity field of the flow, converting it \ninto a frequency domain representation. Higher wavenumbers correspond to higher frequencies and \nhigher energy, and are much harder to solve as we need higher modes to capture the high-frequency \nbehavior of the flow. Overall, this allows researchers to study the energy spectrum, which \nprovides insights into the behavior of turbulence and the underlying physical processes.\n"
      ]
    },
    {
      "cell_type": "markdown",
      "metadata": {},
      "source": [
        ".. raw:: html\n\n   <div style=\"margin-top: 3em;\"></div>\n\n## Import dependencies\nWe first import our `neuralop` library and required dependencies.\n\n"
      ]
    },
    {
      "cell_type": "code",
      "execution_count": null,
      "metadata": {
        "collapsed": false
      },
      "outputs": [],
      "source": [
        "import numpy as np\nimport torch\nimport matplotlib\nimport matplotlib.pyplot as plt\nfrom neuralop.utils import spectrum_2d\nfrom neuralop.data.datasets import load_darcy_flow_small\n\nfont = {\"size\": 28}\nmatplotlib.rc(\"font\", **font)\n\ntorch.manual_seed(0)\nnp.random.seed(0)"
      ]
    },
    {
      "cell_type": "markdown",
      "metadata": {},
      "source": [
        ".. raw:: html\n\n   <div style=\"margin-top: 3em;\"></div>\n\n## Define analysis parameters\nThese parameters control the spectral analysis of our Darcy-Flow dataset\n\n"
      ]
    },
    {
      "cell_type": "code",
      "execution_count": null,
      "metadata": {
        "collapsed": false
      },
      "outputs": [],
      "source": [
        "samples = 50  # Number of samples to analyze\ns = 16  # Resolution of the dataset (16x16 grid)\ndataset_name = \"Darcy Flow\""
      ]
    },
    {
      "cell_type": "markdown",
      "metadata": {},
      "source": [
        ".. raw:: html\n\n   <div style=\"margin-top: 3em;\"></div>\n\n## Loading the Darcy-Flow dataset\nWe load the Darcy-Flow dataset with multiple resolutions for spectral analysis\n\n"
      ]
    },
    {
      "cell_type": "code",
      "execution_count": null,
      "metadata": {
        "collapsed": false
      },
      "outputs": [],
      "source": [
        "train_loader, test_loaders, data_processor = load_darcy_flow_small(\n    n_train=50,\n    batch_size=50,\n    test_resolutions=[16, 32],\n    n_tests=[50, 50],\n    test_batch_sizes=[32],\n    encode_output=False,\n)"
      ]
    },
    {
      "cell_type": "markdown",
      "metadata": {},
      "source": [
        ".. raw:: html\n\n   <div style=\"margin-top: 3em;\"></div>\n\n## Preparing data for spectral analysis\nThe dataset structure is ['x', 'y'] where 'x' is the permeability field and 'y' is the pressure field\nWe'll analyze the pressure fields ('y') for their spectral characteristics\n\n"
      ]
    },
    {
      "cell_type": "code",
      "execution_count": null,
      "metadata": {
        "collapsed": false
      },
      "outputs": [],
      "source": [
        "print(\"Original dataset shape:\", train_loader.dataset[:samples][\"x\"].shape)\n\n# Extract the pressure fields (output) for spectral analysis\n# We want the last two dimensions to represent the spatial dimensions\ndataset_pred = train_loader.dataset[:samples][\n    \"y\"\n].squeeze()  # Remove empty channel dimension\n\n# Shape of the dataset\nshape = dataset_pred.shape\nprint(f\"Pressure field shape: {shape}\")"
      ]
    },
    {
      "cell_type": "markdown",
      "metadata": {},
      "source": [
        ".. raw:: html\n\n   <div style=\"margin-top: 3em;\"></div>\n\n## Creating coordinate grids for spectral analysis\nWe need to define the spatial grid for proper spectral analysis\nFor 2D grids, we create x and y coordinate arrays\n\n"
      ]
    },
    {
      "cell_type": "code",
      "execution_count": null,
      "metadata": {
        "collapsed": false
      },
      "outputs": [],
      "source": [
        "batchsize, size_x, size_y = 1, shape[1], shape[2]\n\n# Create coordinate grids normalized to [-1, 1]\ngridx = torch.tensor(np.linspace(-1, 1, size_x), dtype=torch.float)\ngridx = gridx.reshape(1, size_x, 1).repeat([batchsize, 1, size_y])\ngridy = torch.tensor(np.linspace(-1, 1, size_y), dtype=torch.float)\ngridy = gridy.reshape(1, 1, size_y).repeat([batchsize, size_x, 1])\ngrid = torch.cat((gridx, gridy), dim=-1)"
      ]
    },
    {
      "cell_type": "markdown",
      "metadata": {},
      "source": [
        ".. raw:: html\n\n   <div style=\"margin-top: 3em;\"></div>\n\n## Computing the energy spectrum\nWe compute the 2D energy spectrum of the pressure fields using the spectrum_2d utility\nThis gives us insight into how energy is distributed across different spatial frequencies\n\n"
      ]
    },
    {
      "cell_type": "code",
      "execution_count": null,
      "metadata": {
        "collapsed": false
      },
      "outputs": [],
      "source": [
        "# Generate the spectrum of the dataset\n# We reshape our samples into the form expected by ``spectrum_2d``: ``(n_samples, h, w)``\ntruth_sp = spectrum_2d(dataset_pred.reshape(samples * batchsize, s, s), s)"
      ]
    },
    {
      "cell_type": "markdown",
      "metadata": {},
      "source": [
        ".. raw:: html\n\n   <div style=\"margin-top: 3em;\"></div>\n\n## Visualizing the energy spectrum\nThe energy spectrum shows how much energy is contained in each wavenumber (spatial frequency)\nHigher wavenumbers correspond to smaller spatial scales and higher frequencies\n\n"
      ]
    },
    {
      "cell_type": "code",
      "execution_count": null,
      "metadata": {
        "collapsed": false
      },
      "outputs": [],
      "source": [
        "# Configure pyplot and generate the plot\nplt.style.use(\"classic\")\nfig, ax = plt.subplots(figsize=(10, 10), dpi=150)\nax.set_facecolor(\"white\")\nax.set_yscale(\"log\")  # Log scale for better visualization of energy decay\nlength = dataset_pred.shape[-1]  # The resolution length of the dataset\nbuffer = 4  # Add a buffer to the plot for better visualization\nk = np.arange(length + buffer) * 1.0\n\n# Plot the spectrum\nax.plot(truth_sp, color=\"navy\", linestyle=\"--\", linewidth=2.5, label=\"Energy Spectrum\")\n\n# Customizing the plot\nax.set_xlim(1, 16)\nax.set_ylim(0.01, 20)\nax.set_xlabel(\"Wavenumber\", fontsize=16, fontweight=\"bold\")\nax.set_ylabel(\"Energy\", fontsize=16, fontweight=\"bold\")\nax.set_title(\n    f\"Energy Spectrum of {dataset_name} Dataset\", fontsize=18, fontweight=\"bold\", pad=20\n)\nax.tick_params(axis=\"both\", which=\"major\", labelsize=15)\n\nplt.tight_layout()\nplt.show()"
      ]
    }
  ],
  "metadata": {
    "kernelspec": {
      "display_name": "Python 3",
      "language": "python",
      "name": "python3"
    },
    "language_info": {
      "codemirror_mode": {
        "name": "ipython",
        "version": 3
      },
      "file_extension": ".py",
      "mimetype": "text/x-python",
      "name": "python",
      "nbconvert_exporter": "python",
      "pygments_lexer": "ipython3",
      "version": "3.13.7"
    }
  },
  "nbformat": 4,
  "nbformat_minor": 0
}