{
  "cells": [
    {
      "cell_type": "markdown",
      "metadata": {},
      "source": [
        "\n# Using `torchtnt` to count FLOPS\n\nA demo using ``torchtnt`` to estimate the number of floating-point\noperations per second (FLOPS) required for a model's forward and backward pass. \n\nThis tutorial demonstrates how to profile neural operator models to understand\ntheir computational requirements. FLOPS counting is crucial for:\n- Comparing different model architectures\n- Understanding computational bottlenecks\n- Optimizing model efficiency\n- Making informed decisions about model deployment\n\nWe will use the FLOP computation to analyze the computational resources\nused by a FNO model.\n"
      ]
    },
    {
      "cell_type": "markdown",
      "metadata": {},
      "source": [
        ".. raw:: html\n\n   <div style=\"margin-top: 3em;\"></div>\n\n## Import dependencies\nWe import the necessary modules for FLOPS counting and model creation\n\n"
      ]
    },
    {
      "cell_type": "code",
      "execution_count": null,
      "metadata": {
        "collapsed": false
      },
      "outputs": [],
      "source": [
        "from copy import deepcopy\nimport torch\nfrom torchtnt.utils.flops import FlopTensorDispatchMode\n\nfrom neuralop.models import FNO\n\ndevice = \"cpu\""
      ]
    },
    {
      "cell_type": "markdown",
      "metadata": {},
      "source": [
        ".. raw:: html\n\n   <div style=\"margin-top: 3em;\"></div>\n\n## Creating the FNO model for analysis\nWe create a moderately-sized FNO model to demonstrate FLOPS counting\n\n"
      ]
    },
    {
      "cell_type": "code",
      "execution_count": null,
      "metadata": {
        "collapsed": false
      },
      "outputs": [],
      "source": [
        "fno = FNO(\n    n_modes=(64, 64),\n    in_channels=1,\n    out_channels=1,\n    hidden_channels=64,\n    projection_channel_ratio=1,\n)\n\n# Create a sample input tensor for FLOPS counting\nbatch_size = 4\nmodel_input = torch.randn(batch_size, 1, 128, 128)"
      ]
    },
    {
      "cell_type": "markdown",
      "metadata": {},
      "source": [
        ".. raw:: html\n\n   <div style=\"margin-top: 3em;\"></div>\n\n## Counting FLOPS for forward and backward passes\nWe use the FlopTensorDispatchMode to count FLOPS during both forward and backward passes\n\n"
      ]
    },
    {
      "cell_type": "code",
      "execution_count": null,
      "metadata": {
        "collapsed": false
      },
      "outputs": [],
      "source": [
        "with FlopTensorDispatchMode(fno) as ftdm:\n    # Count forward pass FLOPS\n    res = fno(model_input).mean()\n    fno_forward_flops = deepcopy(ftdm.flop_counts)\n\n    # Reset the counter and count backward pass FLOPS\n    ftdm.reset()\n    res.backward()\n    fno_backward_flops = deepcopy(ftdm.flop_counts)"
      ]
    },
    {
      "cell_type": "markdown",
      "metadata": {},
      "source": [
        ".. raw:: html\n\n   <div style=\"margin-top: 3em;\"></div>\n\n## Analyzing FLOPS breakdown\nThe output is organized as a defaultdict object that counts the FLOPS used in each submodule.\nThis gives us detailed insight into which parts of the model are computationally expensive.\n\n"
      ]
    },
    {
      "cell_type": "code",
      "execution_count": null,
      "metadata": {
        "collapsed": false
      },
      "outputs": [],
      "source": [
        "print(\"Forward pass FLOPS breakdown:\")\nprint(fno_forward_flops)"
      ]
    },
    {
      "cell_type": "markdown",
      "metadata": {},
      "source": [
        ".. raw:: html\n\n   <div style=\"margin-top: 3em;\"></div>\n\n## Finding maximum FLOPS usage\nTo check the maximum FLOPS used during the forward pass, let's create a recursive function\nto search the nested dictionary structure:\n\n"
      ]
    },
    {
      "cell_type": "code",
      "execution_count": null,
      "metadata": {
        "collapsed": false
      },
      "outputs": [],
      "source": [
        "from collections import defaultdict\n\n\ndef get_max_flops(flop_count_dict, max_value=0):\n    for _, value in flop_count_dict.items():\n        # If not nested, compare leaf value to max\n        if isinstance(value, int):\n            max_value = max(max_value, value)\n\n        # Otherwise compute recursive max value below node\n        elif isinstance(value, defaultdict):\n            new_val = get_max_flops(value, max_value)\n            max_value = max(max_value, new_val)\n    return max_value\n\n\nprint(f\"Max FLOPS required for FNO.forward: {get_max_flops(fno_forward_flops)}\")\nprint(f\"Max FLOPS required for FNO.backward: {get_max_flops(fno_backward_flops)}\")"
      ]
    }
  ],
  "metadata": {
    "kernelspec": {
      "display_name": "Python 3",
      "language": "python",
      "name": "python3"
    },
    "language_info": {
      "codemirror_mode": {
        "name": "ipython",
        "version": 3
      },
      "file_extension": ".py",
      "mimetype": "text/x-python",
      "name": "python",
      "nbconvert_exporter": "python",
      "pygments_lexer": "ipython3",
      "version": "3.13.7"
    }
  },
  "nbformat": 4,
  "nbformat_minor": 0
}