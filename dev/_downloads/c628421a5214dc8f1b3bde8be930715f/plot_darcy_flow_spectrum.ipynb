{
  "cells": [
    {
      "cell_type": "markdown",
      "metadata": {},
      "source": [
        "\n# A simple Darcy-Flow spectrum analysis\nIn this example, we demonstrate how to use the spectrum analysis function on the small Darcy-Flow example.\nFor more details on spectrum analysis, users can take a look at this reference: https://www.astronomy.ohio-state.edu/ryden.1/ast825/ch7.pdf\n\n## Short summary\n\nSpectral analysis is useful because it allows researchers to study the distribution of energy across different scales in a fluid flow. By examining the energy spectrum, one can gain insights into the behavior of turbulence or any other dataset and the underlying physical processes. The energy spectrum is analysed through the Fourier transform which is a mathematical tool that decomposes a function or signal into its constituent frequencies. In a fluid flow, it is used to analyze the distribution of energy across different scales in a flow. Specifically, the Fourier transform is applied to the velocity field of the flow, converting it into a frequency domain representation. Higher the wavenumber corresponds to higher frequency and higher energy and is a much harder task to solve as we need higher modes to capture the high-frequency behavior of the flow. Overall this allows researchers to study the energy spectrum, which provides insights into the behavior of turbulence and the underlying physical processes.\n"
      ]
    },
    {
      "cell_type": "code",
      "execution_count": null,
      "metadata": {
        "collapsed": false
      },
      "outputs": [],
      "source": [
        "# Original Author: Zongyi Li\n# Modified by: Robert Joseph George"
      ]
    },
    {
      "cell_type": "markdown",
      "metadata": {},
      "source": [
        "## Import the library\nWe first import our `neuralop` library and required dependencies.\n\n"
      ]
    },
    {
      "cell_type": "code",
      "execution_count": null,
      "metadata": {
        "collapsed": false
      },
      "outputs": [],
      "source": [
        "import numpy as np\nimport torch\nimport matplotlib\nimport matplotlib.pyplot as plt\nfrom neuralop.utils import spectrum_2d\nfrom neuralop.data.datasets import load_darcy_flow_small\n\nfont = {'size'   : 28}\nmatplotlib.rc('font', **font)\n\ntorch.manual_seed(0)\nnp.random.seed(0)"
      ]
    },
    {
      "cell_type": "markdown",
      "metadata": {},
      "source": [
        "Define some variables\n\n"
      ]
    },
    {
      "cell_type": "code",
      "execution_count": null,
      "metadata": {
        "collapsed": false
      },
      "outputs": [],
      "source": [
        "T = 500 # number of time steps\nsamples = 50\ns = 16 # resolution of the dataset\n\n# additional paramaters for the dataset\nRe = 5000\nindex = 1\nT = 100\ndataset_name = \"Darcy Flow\""
      ]
    },
    {
      "cell_type": "markdown",
      "metadata": {},
      "source": [
        "Loading the Navier-Stokes dataset in 128x128 resolution\n\n"
      ]
    },
    {
      "cell_type": "code",
      "execution_count": null,
      "metadata": {
        "collapsed": false
      },
      "outputs": [],
      "source": [
        "train_loader, test_loaders, data_processor = load_darcy_flow_small(\n        n_train=50, batch_size=50, \n        test_resolutions=[16, 32], n_tests=[50],\n        test_batch_sizes=[32], \n        encode_output=False\n)\n\n# This is highly depending on your dataset and its structure ['x', 'y'] (In Darcy flow)\nprint(\"Original dataset shape\", train_loader.dataset[:samples]['x'].shape) # check the shape\n\n# It is important to note that we want the last two dimensions to represent the spatial dimensions\n# So in some cases one might have to permute the dataset after squeezing the initial dimensions as well\ndataset_pred = train_loader.dataset[:samples]['x'].squeeze() # squeeze the dataset to remove the batch dimension or other dimensions\n\n# Shape of the dataset\nshape = dataset_pred.shape\n\n# Define the grid size - in our case its a 2d Grid repeating, for higher dimensions this will change\n# Example for 3d grid\n\"\"\"\nbatchsize, size_x, size_y, size_z = 1, shape[0], shape[1], shape[2]\ngridx = torch.tensor(np.linspace(-1, 1, size_x), dtype=torch.float)\ngridx = gridx.reshape(1, size_x, 1, 1, 1).repeat([batchsize, 1, size_y, size_z, 1])\ngridy = torch.tensor(np.linspace(-1, 1, size_y), dtype=torch.float)\ngridy = gridy.reshape(1, 1, size_y, 1, 1).repeat([batchsize, size_x, 1, size_z, 1])\ngridz = torch.tensor(np.linspace(-1, 1, size_z), dtype=torch.float)\ngridz = gridz.reshape(1, 1, 1, size_z, 1).repeat([batchsize, size_x, size_y, 1, 1])\ngrid = torch.cat((gridx, gridy, gridz), dim=-1)\n\"\"\"\nbatchsize, size_x, size_y = 1, shape[1], shape[2]\ngridx = torch.tensor(np.linspace(-1, 1, size_x), dtype=torch.float)\ngridx = gridx.reshape(1, size_x, 1).repeat([batchsize, 1, size_y])\ngridy = torch.tensor(np.linspace(-1, 1, size_y), dtype=torch.float)\ngridy = gridy.reshape(1, 1, size_y).repeat([batchsize, size_x, 1])\ngrid = torch.cat((gridx, gridy), dim=-1)"
      ]
    },
    {
      "cell_type": "markdown",
      "metadata": {},
      "source": [
        "### ## FFT plot\n\n"
      ]
    },
    {
      "cell_type": "code",
      "execution_count": null,
      "metadata": {
        "collapsed": false
      },
      "outputs": [],
      "source": [
        "# Generate the spectrum of the dataset\n# Again only the last two dimensions have to be resolution and the first dimension is the reshaped product of all the other dimensions\ntruth_sp = spectrum_2d(dataset_pred.reshape(samples * batchsize, s, s), s)\n\n# Generate the spectrum plot and set all the settings\nfig, ax = plt.subplots(figsize=(10,10))\n\nlinewidth = 3\nax.set_yscale('log')\n\nlength = 16 # typically till the resolution length of the dataset\nbuffer = 10 # just add a buffer to the plot\nk = np.arange(length + buffer) * 1.0\nax.plot(truth_sp, 'k', linestyle=\":\", label=\"NS\", linewidth=4)\n\nax.set_xlim(1,length+buffer)\nax.set_ylim(10, 10^10)\nplt.legend(prop={'size': 20})\nplt.title('Spectrum of {} Datset'.format(dataset_name))\n\nplt.xlabel('wavenumber')\nplt.ylabel('energy')\n\n# show the figure\nleg = plt.legend(loc='best')\nleg.get_frame().set_alpha(0.5)\nplt.show()"
      ]
    }
  ],
  "metadata": {
    "kernelspec": {
      "display_name": "Python 3",
      "language": "python",
      "name": "python3"
    },
    "language_info": {
      "codemirror_mode": {
        "name": "ipython",
        "version": 3
      },
      "file_extension": ".py",
      "mimetype": "text/x-python",
      "name": "python",
      "nbconvert_exporter": "python",
      "pygments_lexer": "ipython3",
      "version": "3.9.19"
    }
  },
  "nbformat": 4,
  "nbformat_minor": 0
}