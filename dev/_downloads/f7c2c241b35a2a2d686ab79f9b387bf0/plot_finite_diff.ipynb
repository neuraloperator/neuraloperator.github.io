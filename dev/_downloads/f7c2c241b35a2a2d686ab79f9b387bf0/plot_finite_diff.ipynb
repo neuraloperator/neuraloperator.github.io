{
  "cells": [
    {
      "cell_type": "markdown",
      "metadata": {},
      "source": [
        "\n\n# Finite Differences\n\nThis tutorial demonstrates the use of finite difference methods for computing\nderivatives of functions in neural operators. Finite differences are crucial for:\n\n- Computing gradients and higher-order derivatives\n- Implementing physics-informed loss functions\n- Enforcing differential equation constraints\n- Computing divergence, curl, and Laplacian operators\n\nThe `FiniteDiff` class provides efficient implementations of finite difference\nschemes for computing derivatives in 1D, 2D, and 3D domains.\n"
      ]
    },
    {
      "cell_type": "code",
      "execution_count": null,
      "metadata": {
        "collapsed": false
      },
      "outputs": [],
      "source": [
        "import torch\nimport matplotlib.pyplot as plt\nimport numpy as np\nfrom neuralop.losses.differentiation import FiniteDiff"
      ]
    },
    {
      "cell_type": "markdown",
      "metadata": {},
      "source": [
        ".. raw:: html\n\n   <div style=\"margin-top: 3em;\"></div>\n\n# 1D Finite Difference Examples\nHere we demonstrate the FiniteDiff class for 1D functions\n\n"
      ]
    },
    {
      "cell_type": "markdown",
      "metadata": {},
      "source": [
        ".. raw:: html\n\n   <div style=\"margin-top: 3em;\"></div>\n\n## Creating an example of 1D function\nHere we consider f(x) = exp(-x) * sin(x) on [0, 2\u03c0]\n\n"
      ]
    },
    {
      "cell_type": "code",
      "execution_count": null,
      "metadata": {
        "collapsed": false
      },
      "outputs": [],
      "source": [
        "L_x = 2 * torch.pi\nnx = 256\nx = torch.linspace(0, L_x, nx, dtype=torch.float64)\n\nf_1d = torch.exp(-x) * torch.sin(x)"
      ]
    },
    {
      "cell_type": "markdown",
      "metadata": {},
      "source": [
        ".. raw:: html\n\n   <div style=\"margin-top: 3em;\"></div>\n\n## Differentiate the 1D signal\nWe use the FiniteDiff class with dim=1\n\n"
      ]
    },
    {
      "cell_type": "code",
      "execution_count": null,
      "metadata": {
        "collapsed": false
      },
      "outputs": [],
      "source": [
        "h = L_x / nx\n\n# Compute derivatives\nfd1d = FiniteDiff(dim=1, h=h, periodic_in_x=False)\ndf_dx = fd1d.dx(f_1d)\nd2f_dx2 = fd1d.dx(f_1d, order=2)\n\n# Expected analytical results for f(x) = exp(-x) * sin(x)\ndf_dx_expected = torch.exp(-x) * (torch.cos(x) - torch.sin(x))  # \u2202f/\u2202x\nd2f_dx2_expected = torch.exp(-x) * (-2 * torch.cos(x))  # \u2202\u00b2f/\u2202x\u00b2"
      ]
    },
    {
      "cell_type": "markdown",
      "metadata": {},
      "source": [
        ".. raw:: html\n\n   <div style=\"margin-top: 3em;\"></div>\n\n## Plot the 1D results\n\n"
      ]
    },
    {
      "cell_type": "code",
      "execution_count": null,
      "metadata": {
        "collapsed": false
      },
      "outputs": [],
      "source": [
        "fig, axes = plt.subplots(3, 1, figsize=(10, 18))\nfig.suptitle(\"1D Finite Differences: f(x) = exp(-x) * sin(x)\")\n\n# Original function\naxes[0].plot(x.cpu().numpy(), f_1d.cpu().numpy(), \"b-\", linewidth=1.5)\naxes[0].set_title(\"Original: exp(-x) * sin(x)\")\naxes[0].set_xlabel(\"x\")\naxes[0].set_ylabel(\"f(x)\")\n\n# First derivative\naxes[1].plot(x.cpu().numpy(), df_dx.cpu().numpy(), \"r-\", linewidth=1.5, label=\"Computed\")\naxes[1].plot(x.cpu().numpy(), df_dx_expected.cpu().numpy(), \"r--\", linewidth=2, label=\"Expected: exp(-x) * (cos(x) - sin(x))\")\naxes[1].set_title('\u2202f/\u2202x')\naxes[1].set_xlabel('x')\naxes[1].set_ylabel('\u2202f/\u2202x')\naxes[1].legend()\n\n# Second derivative\naxes[2].plot(x.cpu().numpy(), d2f_dx2.cpu().numpy(), \"g-\", linewidth=1.5, label=\"Computed\")\naxes[2].plot(x.cpu().numpy(), d2f_dx2_expected.cpu().numpy(), \"g--\", linewidth=2, label=\"Expected: exp(-x) * (-2cos(x))\")\naxes[2].set_title(\"\u2202\u00b2f/\u2202x\u00b2\")\naxes[2].set_xlabel(\"x\")\naxes[2].set_ylabel(\"\u2202\u00b2f/\u2202x\u00b2\")\naxes[2].legend()\n\nplt.tight_layout()\nplt.show()"
      ]
    },
    {
      "cell_type": "markdown",
      "metadata": {},
      "source": [
        ".. raw:: html\n\n   <div style=\"margin-top: 3em;\"></div>\n\n# 2D Finite Difference Examples\nHere we demonstrate the FiniteDiff class for 2D functions\n\n"
      ]
    },
    {
      "cell_type": "markdown",
      "metadata": {},
      "source": [
        ".. raw:: html\n\n   <div style=\"margin-top: 3em;\"></div>\n\n## Creating an example of 2D function\nHere we consider f(x,y) = exp(-x) * sin(y), which is non-periodic on [0, 2\u03c0] \u00d7 [0, 2\u03c0]\n\n"
      ]
    },
    {
      "cell_type": "code",
      "execution_count": null,
      "metadata": {
        "collapsed": false
      },
      "outputs": [],
      "source": [
        "L_x, L_y = 2 * torch.pi, 2 * torch.pi\nnx, ny = 256, 256\nx = torch.linspace(0, L_x, nx, dtype=torch.float64)\ny = torch.linspace(0, L_y, ny, dtype=torch.float64)\nX, Y = torch.meshgrid(x, y, indexing=\"ij\")\n\n# Test function: f(x,y) = exp(-x) * sin(y)\nf_2d = torch.exp(-X) * torch.sin(Y)"
      ]
    },
    {
      "cell_type": "markdown",
      "metadata": {},
      "source": [
        ".. raw:: html\n\n   <div style=\"margin-top: 3em;\"></div>\n\n## Differentiate the 2D signal\nWe use the FiniteDiff class with dim=2 to compute derivatives\n\n"
      ]
    },
    {
      "cell_type": "code",
      "execution_count": null,
      "metadata": {
        "collapsed": false
      },
      "outputs": [],
      "source": [
        "fd2d = FiniteDiff(\n    dim=2, h=(L_x / nx, L_y / ny), periodic_in_x=False, periodic_in_y=False\n)\n\n# Compute derivatives\ndf_dx = fd2d.dx(f_2d)\ndf_dy = fd2d.dy(f_2d)\nd2f_dx2 = fd2d.dx(f_2d, order=2)\nd2f_dy2 = fd2d.dy(f_2d, order=2)\nlaplacian = fd2d.laplacian(f_2d)\n\n# Expected analytical results for f(x,y) = exp(-x) * sin(y)\ndf_dx_expected = -torch.exp(-X) * torch.sin(Y)  # \u2202f/\u2202x\ndf_dy_expected = torch.exp(-X) * torch.cos(Y)  # \u2202f/\u2202y\nd2f_dx2_expected = torch.exp(-X) * torch.sin(Y)  # \u2202\u00b2f/\u2202x\u00b2\nd2f_dy2_expected = -torch.exp(-X) * torch.sin(Y)  # \u2202\u00b2f/\u2202y\u00b2\nlaplacian_expected = torch.zeros_like(X)  # \u2207\u00b2f"
      ]
    },
    {
      "cell_type": "markdown",
      "metadata": {},
      "source": [
        ".. raw:: html\n\n   <div style=\"margin-top: 3em;\"></div>\n\n## Plot the 2D results\n\n"
      ]
    },
    {
      "cell_type": "code",
      "execution_count": null,
      "metadata": {
        "collapsed": false
      },
      "outputs": [],
      "source": [
        "fig, axes = plt.subplots(2, 4, figsize=(20, 10))\nfig.suptitle(\"2D Finite Differences: f(x,y) = exp(-x) * sin(y)\")\n\n# Compute consistent colorbar limits for each derivative pair\ndf_dx_min = min(df_dx.min().item(), df_dx_expected.min().item())\ndf_dx_max = max(df_dx.max().item(), df_dx_expected.max().item())\ndf_dy_min = min(df_dy.min().item(), df_dy_expected.min().item())\ndf_dy_max = max(df_dy.max().item(), df_dy_expected.max().item())\n\n# Compute consistent colorbar limits for second derivatives\nd2f_dx2_min = min(d2f_dx2.min().item(), d2f_dx2_expected.min().item())\nd2f_dx2_max = max(d2f_dx2.max().item(), d2f_dx2_expected.max().item())\nd2f_dy2_min = min(d2f_dy2.min().item(), d2f_dy2_expected.min().item())\nd2f_dy2_max = max(d2f_dy2.max().item(), d2f_dy2_expected.max().item())\n\n# Compute consistent colorbar limits for laplacian\nlaplacian_min = min(laplacian.min().item(), laplacian_expected.min().item())\nlaplacian_max = max(laplacian.max().item(), laplacian_expected.max().item())\n\n# Original function\nim0 = axes[0, 0].imshow(f_2d.cpu().numpy())\naxes[0, 0].set_title(\"Original: exp(-x) * sin(y)\")\nplt.colorbar(im0, ax=axes[0, 0], shrink=0.62)\n\n# \u2202f/\u2202x computed\nim1 = axes[0, 1].imshow(df_dx.cpu().numpy(), vmin=df_dx_min, vmax=df_dx_max)\naxes[0, 1].set_title(\"\u2202f/\u2202x (computed)\")\nplt.colorbar(im1, ax=axes[0, 1], shrink=0.62)\n\n# \u2202f/\u2202x expected\nim2 = axes[0, 2].imshow(df_dx_expected.cpu().numpy(), vmin=df_dx_min, vmax=df_dx_max)\naxes[0, 2].set_title(\"\u2202f/\u2202x (expected: -exp(-x) * sin(y))\")\nplt.colorbar(im2, ax=axes[0, 2], shrink=0.62)\n\n# \u2202f/\u2202y computed\nim3 = axes[0, 3].imshow(df_dy.cpu().numpy(), vmin=df_dy_min, vmax=df_dy_max)\naxes[0, 3].set_title(\"\u2202f/\u2202y (computed)\")\nplt.colorbar(im3, ax=axes[0, 3], shrink=0.62)\n\n# \u2202f/\u2202y expected\nim4 = axes[1, 0].imshow(df_dy_expected.cpu().numpy(), vmin=df_dy_min, vmax=df_dy_max)\naxes[1, 0].set_title(\"\u2202f/\u2202y (expected: exp(-x) * cos(y))\")\nplt.colorbar(im4, ax=axes[1, 0], shrink=0.62)\n\n# Laplacian computed\nim5 = axes[1, 1].imshow(laplacian.cpu().numpy(), vmin=laplacian_min, vmax=laplacian_max)\naxes[1, 1].set_title(\"\u2207\u00b2f (computed)\")\nplt.colorbar(im5, ax=axes[1, 1], shrink=0.62)\n\n# Laplacian expected\nim6 = axes[1, 2].imshow(laplacian_expected.cpu().numpy(), vmin=laplacian_min, vmax=laplacian_max)\naxes[1, 2].set_title(\"\u2207\u00b2f (expected: 0)\")\nplt.colorbar(im6, ax=axes[1, 2], shrink=0.62)\n\n# Error in laplacian\nerror = torch.abs(laplacian - laplacian_expected)\nim7 = axes[1, 3].imshow(error.cpu().numpy())\naxes[1, 3].set_title(\"Error in \u2207\u00b2f\")\nplt.colorbar(im7, ax=axes[1, 3], shrink=0.62)\n\nplt.tight_layout()\nplt.show()"
      ]
    },
    {
      "cell_type": "markdown",
      "metadata": {},
      "source": [
        ".. raw:: html\n\n   <div style=\"margin-top: 3em;\"></div>\n\n## Test gradient computation\nCompute gradient of the scalar field\n\n"
      ]
    },
    {
      "cell_type": "code",
      "execution_count": null,
      "metadata": {
        "collapsed": false
      },
      "outputs": [],
      "source": [
        "gradient = fd2d.gradient(f_2d)  # Returns [df_dx, df_dy]\n\n# Plot gradient components\nfig, axes = plt.subplots(2, 2, figsize=(12, 10))\nfig.suptitle(\"Gradient Components: \u2207f = [\u2202f/\u2202x, \u2202f/\u2202y]\")\n\n# \u2202f/\u2202x from gradient\nim0 = axes[0, 0].imshow(gradient[0].cpu().numpy(), vmin=df_dx_min, vmax=df_dx_max)\naxes[0, 0].set_title(\"\u2202f/\u2202x from gradient\")\nplt.colorbar(im0, ax=axes[0, 0], shrink=0.62)\n\n# \u2202f/\u2202y from gradient\nim1 = axes[0, 1].imshow(gradient[1].cpu().numpy(), vmin=df_dy_min, vmax=df_dy_max)\naxes[0, 1].set_title(\"\u2202f/\u2202y from gradient\")\nplt.colorbar(im1, ax=axes[0, 1], shrink=0.62)\n\n# Compare with direct computation\nim2 = axes[1, 0].imshow((gradient[0] - df_dx).cpu().numpy())\naxes[1, 0].set_title(\"Difference: gradient[0] - df_dx\")\nplt.colorbar(im2, ax=axes[1, 0], shrink=0.62)\n\nim3 = axes[1, 1].imshow((gradient[1] - df_dy).cpu().numpy())\naxes[1, 1].set_title(\"Difference: gradient[1] - df_dy\")\nplt.colorbar(im3, ax=axes[1, 1], shrink=0.62)\n\nplt.tight_layout()\nplt.show()"
      ]
    },
    {
      "cell_type": "markdown",
      "metadata": {},
      "source": [
        ".. raw:: html\n\n   <div style=\"margin-top: 3em;\"></div>\n\n## Test vector field operations\nCreate a vector field: u = [exp(-x), sin(y)]\n\n"
      ]
    },
    {
      "cell_type": "code",
      "execution_count": null,
      "metadata": {
        "collapsed": false
      },
      "outputs": [],
      "source": [
        "u1 = torch.exp(-X)\nu2 = torch.sin(Y)\nu_vector = torch.stack([u1, u2], dim=0)\n\n# Compute divergence and curl\ndivergence = fd2d.divergence(u_vector)\ncurl = fd2d.curl(u_vector)\n\n# Expected analytical results\n# \u2207\u00b7u = \u2202u\u2081/\u2202x + \u2202u\u2082/\u2202y = -exp(-x) + cos(y)\ndivergence_expected = -torch.exp(-X) + torch.cos(Y)\n# \u2207\u00d7u = \u2202u\u2082/\u2202x - \u2202u\u2081/\u2202y = 0 - 0 = 0 (since u\u2081 doesn't depend on y, u\u2082 doesn't depend on x)\ncurl_expected = torch.zeros_like(X)"
      ]
    },
    {
      "cell_type": "markdown",
      "metadata": {},
      "source": [
        ".. raw:: html\n\n   <div style=\"margin-top: 3em;\"></div>\n\n## Plot vector field operations\n\n"
      ]
    },
    {
      "cell_type": "code",
      "execution_count": null,
      "metadata": {
        "collapsed": false
      },
      "outputs": [],
      "source": [
        "fig, axes = plt.subplots(2, 3, figsize=(18, 12))\nfig.suptitle(\"Vector Field Operations: u = [exp(-x), sin(y)]\")\n\n# Compute consistent colorbar limits for vector field components\nu1_min = min(u1.min().item(), u1.max().item())\nu1_max = max(u1.min().item(), u1.max().item())\nu2_min = min(u2.min().item(), u2.max().item())\nu2_max = max(u2.min().item(), u2.max().item())\n\n# Compute consistent colorbar limits for divergence\ndiv_min = min(divergence.min().item(), divergence_expected.min().item())\ndiv_max = max(divergence.max().item(), divergence_expected.max().item())\n\n# Compute consistent colorbar limits for curl\ncurl_min = min(curl.min().item(), curl_expected.min().item())\ncurl_max = max(curl.max().item(), curl_expected.max().item())\n\n# Vector field components\nim0 = axes[0, 0].imshow(u1.cpu().numpy(), vmin=u1_min, vmax=u1_max)\naxes[0, 0].set_title(\"u\u2081 = exp(-x)\")\nplt.colorbar(im0, ax=axes[0, 0], shrink=0.62)\n\nim1 = axes[0, 1].imshow(u2.cpu().numpy(), vmin=u2_min, vmax=u2_max)\naxes[0, 1].set_title(\"u\u2082 = sin(y)\")\nplt.colorbar(im1, ax=axes[0, 1], shrink=0.62)\n\n# Divergence\nim2 = axes[0, 2].imshow(divergence.cpu().numpy(), vmin=div_min, vmax=div_max)\naxes[0, 2].set_title(\"\u2207\u00b7u (computed)\")\nplt.colorbar(im2, ax=axes[0, 2], shrink=0.62)\n\n# Divergence expected\nim3 = axes[1, 0].imshow(divergence_expected.cpu().numpy(), vmin=div_min, vmax=div_max)\naxes[1, 0].set_title(\"\u2207\u00b7u (expected: -exp(-x) + cos(y))\")\nplt.colorbar(im3, ax=axes[1, 0], shrink=0.62)\n\n# Curl\nim4 = axes[1, 1].imshow(curl.cpu().numpy(), vmin=curl_min, vmax=curl_max)\naxes[1, 1].set_title(\"\u2207\u00d7u (computed)\")\nplt.colorbar(im4, ax=axes[1, 1], shrink=0.62)\n\n# Curl expected\nim5 = axes[1, 2].imshow(curl_expected.cpu().numpy(), vmin=curl_min, vmax=curl_max)\naxes[1, 2].set_title(\"\u2207\u00d7u (expected: 0)\")\nplt.colorbar(im5, ax=axes[1, 2], shrink=0.62)\n\nplt.tight_layout()\nplt.show()"
      ]
    },
    {
      "cell_type": "markdown",
      "metadata": {},
      "source": [
        ".. raw:: html\n\n   <div style=\"margin-top: 3em;\"></div>\n\n## Additional verification plots\nShow second derivatives with consistent colorbars\n\n"
      ]
    },
    {
      "cell_type": "code",
      "execution_count": null,
      "metadata": {
        "collapsed": false
      },
      "outputs": [],
      "source": [
        "fig, axes = plt.subplots(2, 2, figsize=(12, 10))\nfig.suptitle(\"Second Derivatives: \u2202\u00b2f/\u2202x\u00b2 and \u2202\u00b2f/\u2202y\u00b2\")\n\n# \u2202\u00b2f/\u2202x\u00b2 computed\nim0 = axes[0, 0].imshow(d2f_dx2.cpu().numpy(), vmin=d2f_dx2_min, vmax=d2f_dx2_max)\naxes[0, 0].set_title(\"\u2202\u00b2f/\u2202x\u00b2 (computed)\")\nplt.colorbar(im0, ax=axes[0, 0], shrink=0.62)\n\n# \u2202\u00b2f/\u2202x\u00b2 expected\nim1 = axes[0, 1].imshow(d2f_dx2_expected.cpu().numpy(), vmin=d2f_dx2_min, vmax=d2f_dx2_max)\naxes[0, 1].set_title(\"\u2202\u00b2f/\u2202x\u00b2 (expected: exp(-x) * sin(y))\")\nplt.colorbar(im1, ax=axes[0, 1], shrink=0.62)\n\n# \u2202\u00b2f/\u2202y\u00b2 computed\nim2 = axes[1, 0].imshow(d2f_dy2.cpu().numpy(), vmin=d2f_dy2_min, vmax=d2f_dy2_max)\naxes[1, 0].set_title(\"\u2202\u00b2f/\u2202y\u00b2 (computed)\")\nplt.colorbar(im2, ax=axes[1, 0], shrink=0.62)\n\n# \u2202\u00b2f/\u2202y\u00b2 expected\nim3 = axes[1, 1].imshow(d2f_dy2_expected.cpu().numpy(), vmin=d2f_dy2_min, vmax=d2f_dy2_max)\naxes[1, 1].set_title(\"\u2202\u00b2f/\u2202y\u00b2 (expected: -exp(-x) * sin(y))\")\nplt.colorbar(im3, ax=axes[1, 1], shrink=0.62)\n\nplt.tight_layout()\nplt.show()"
      ]
    },
    {
      "cell_type": "markdown",
      "metadata": {},
      "source": [
        ".. raw:: html\n\n   <div style=\"margin-top: 3em;\"></div>\n\n# 3D Finite Difference Examples\nHere we demonstrate the FiniteDiff class for 3D functions\n\n"
      ]
    },
    {
      "cell_type": "markdown",
      "metadata": {},
      "source": [
        ".. raw:: html\n\n   <div style=\"margin-top: 3em;\"></div>\n\n## Creating an example of 3D function\nHere we consider f(x,y,z) = exp(-x) * sin(y) * cos(z), which is on [0, 2\u03c0]\u00b3\n\n"
      ]
    },
    {
      "cell_type": "code",
      "execution_count": null,
      "metadata": {
        "collapsed": false
      },
      "outputs": [],
      "source": [
        "L_x, L_y, L_z = 2 * torch.pi, 2 * torch.pi, 2 * torch.pi\nnx, ny, nz = 80, 84, 76\nx = torch.linspace(0, L_x, nx, dtype=torch.float64)\ny = torch.linspace(0, L_y, ny, dtype=torch.float64)\nz = torch.linspace(0, L_z, nz, dtype=torch.float64)\nX, Y, Z = torch.meshgrid(x, y, z, indexing=\"ij\")\n\n# Test function: f(x,y,z) = exp(-x) * sin(y) * cos(z)\nf_3d = torch.exp(-X) * torch.sin(Y) * torch.cos(Z)"
      ]
    },
    {
      "cell_type": "markdown",
      "metadata": {},
      "source": [
        ".. raw:: html\n\n   <div style=\"margin-top: 3em;\"></div>\n\n## Differentiate the 3D signal\nWe use the FiniteDiff class with dim=3 to compute derivatives\n\n"
      ]
    },
    {
      "cell_type": "code",
      "execution_count": null,
      "metadata": {
        "collapsed": false
      },
      "outputs": [],
      "source": [
        "fd3d = FiniteDiff(\n    dim=3, h=(L_x / nx, L_y / ny, L_z / nz),\n    periodic_in_x=False, periodic_in_y=True, periodic_in_z=True,\n)\n\n# Compute derivatives\ndf_dx = fd3d.dx(f_3d)\ndf_dy = fd3d.dy(f_3d)\ndf_dz = fd3d.dz(f_3d)\nd2f_dx2 = fd3d.dx(f_3d, order=2)\nd2f_dy2 = fd3d.dy(f_3d, order=2)\nd2f_dz2 = fd3d.dz(f_3d, order=2)\nlaplacian_3d = fd3d.laplacian(f_3d)\n\n# Expected analytical results for f(x,y,z) = exp(-x) * sin(y) * cos(z)\ndf_dx_expected = -torch.exp(-X) * torch.sin(Y) * torch.cos(Z)  # \u2202f/\u2202x\ndf_dy_expected = torch.exp(-X) * torch.cos(Y) * torch.cos(Z)  # \u2202f/\u2202y\ndf_dz_expected = -torch.exp(-X) * torch.sin(Y) * torch.sin(Z)  # \u2202f/\u2202z\n\nd2f_dx2_expected = torch.exp(-X) * torch.sin(Y) * torch.cos(Z)  # \u2202\u00b2f/\u2202x\u00b2\nd2f_dy2_expected = -torch.exp(-X) * torch.sin(Y) * torch.cos(Z)  # \u2202\u00b2f/\u2202y\u00b2\nd2f_dz2_expected = -torch.exp(-X) * torch.sin(Y) * torch.cos(Z)  # \u2202\u00b2f/\u2202z\u00b2\n\n# Laplacian: \u2207\u00b2f = \u2202\u00b2f/\u2202x\u00b2 + \u2202\u00b2f/\u2202y\u00b2 + \u2202\u00b2f/\u2202z\u00b2\nlaplacian_3d_expected = -torch.exp(-X) * torch.sin(Y) * torch.cos(Z)"
      ]
    },
    {
      "cell_type": "markdown",
      "metadata": {},
      "source": [
        ".. raw:: html\n\n   <div style=\"margin-top: 3em;\"></div>\n\n## Plot 3D results at a specific z-slice\n\n"
      ]
    },
    {
      "cell_type": "code",
      "execution_count": null,
      "metadata": {
        "collapsed": false
      },
      "outputs": [],
      "source": [
        "z_slice_idx = nz // 2  # Middle z-slice\nz_slice_val = z[z_slice_idx].item()\n\nfig, axes = plt.subplots(2, 3, figsize=(18, 12))\nfig.suptitle(f\"3D Finite Differences: f(x,y,z) = exp(-x) * sin(y) * cos(z) at z = {z_slice_val:.2f}\")\n\n# Compute consistent colorbar limits for each derivative pair at the z-slice\ndf_dx_3d_slice = df_dx[:, :, z_slice_idx]\ndf_dx_expected_3d_slice = df_dx_expected[:, :, z_slice_idx]\ndf_dy_3d_slice = df_dy[:, :, z_slice_idx]\ndf_dy_expected_3d_slice = df_dy_expected[:, :, z_slice_idx]\ndf_dz_3d_slice = df_dz[:, :, z_slice_idx]\ndf_dz_expected_3d_slice = df_dz_expected[:, :, z_slice_idx]\n\ndf_dx_3d_min = min(df_dx_3d_slice.min().item(), df_dx_expected_3d_slice.min().item())\ndf_dx_3d_max = max(df_dx_3d_slice.max().item(), df_dx_expected_3d_slice.max().item())\ndf_dy_3d_min = min(df_dy_3d_slice.min().item(), df_dy_expected_3d_slice.min().item())\ndf_dy_3d_max = max(df_dy_3d_slice.max().item(), df_dy_expected_3d_slice.max().item())\ndf_dz_3d_min = min(df_dz_3d_slice.min().item(), df_dz_expected_3d_slice.min().item())\ndf_dz_3d_max = max(df_dz_3d_slice.max().item(), df_dz_expected_3d_slice.max().item())\n\n# Original function at z-slice\nim0 = axes[0, 0].imshow(f_3d[:, :, z_slice_idx].cpu().numpy())\naxes[0, 0].set_title(f\"Original: exp(-x) * sin(y) * cos(z) at z = {z_slice_val:.2f}\")\nplt.colorbar(im0, ax=axes[0, 0], shrink=0.62)\n\n# \u2202f/\u2202x computed\nim1 = axes[0, 1].imshow(df_dx_3d_slice.cpu().numpy(), vmin=df_dx_3d_min, vmax=df_dx_3d_max)\naxes[0, 1].set_title(\"\u2202f/\u2202x (computed)\")\nplt.colorbar(im1, ax=axes[0, 1], shrink=0.62)\n\n# \u2202f/\u2202x expected\nim2 = axes[0, 2].imshow(df_dx_expected_3d_slice.cpu().numpy(), vmin=df_dx_3d_min, vmax=df_dx_3d_max)\naxes[0, 2].set_title(\"\u2202f/\u2202x (expected: -exp(-x) * sin(y) * cos(z))\")\nplt.colorbar(im2, ax=axes[0, 2], shrink=0.62)\n\n# \u2202f/\u2202y computed\nim3 = axes[1, 0].imshow(df_dy_3d_slice.cpu().numpy(), vmin=df_dy_3d_min, vmax=df_dy_3d_max)\naxes[1, 0].set_title(\"\u2202f/\u2202y (computed)\")\nplt.colorbar(im3, ax=axes[1, 0], shrink=0.62)\n\n# \u2202f/\u2202y expected\nim4 = axes[1, 1].imshow(df_dy_expected_3d_slice.cpu().numpy(), vmin=df_dy_3d_min, vmax=df_dy_3d_max)\naxes[1, 1].set_title(\"\u2202f/\u2202y (expected: exp(-x) * cos(y) * cos(z))\")\nplt.colorbar(im4, ax=axes[1, 1], shrink=0.62)\n\n# \u2202f/\u2202z expected\nim5 = axes[1, 2].imshow(df_dz_expected_3d_slice.cpu().numpy(), vmin=df_dz_3d_min, vmax=df_dz_3d_max)\naxes[1, 2].set_title(\"\u2202f/\u2202z (expected: -exp(-x) * sin(y) * sin(z))\")\nplt.colorbar(im5, ax=axes[1, 2], shrink=0.62)\n\nplt.tight_layout()\nplt.show()"
      ]
    },
    {
      "cell_type": "markdown",
      "metadata": {},
      "source": [
        ".. raw:: html\n\n   <div style=\"margin-top: 3em;\"></div>\n\n## Test 3D gradient computation\nCompute gradient of the 3D scalar field\n\n"
      ]
    },
    {
      "cell_type": "code",
      "execution_count": null,
      "metadata": {
        "collapsed": false
      },
      "outputs": [],
      "source": [
        "gradient_3d = fd3d.gradient(f_3d)  # Returns [df_dx, df_dy, df_dz]\n\n# Plot gradient components at z-slice\nfig, axes = plt.subplots(2, 3, figsize=(18, 12))\nfig.suptitle(f\"3D Gradient Components: \u2207f = [\u2202f/\u2202x, \u2202f/\u2202y, \u2202f/\u2202z] at z = {z_slice_val:.2f}\")\n\n# \u2202f/\u2202x from gradient\nim0 = axes[0, 0].imshow(gradient_3d[0][:, :, z_slice_idx].cpu().numpy(), vmin=df_dx_3d_min, vmax=df_dx_3d_max)\naxes[0, 0].set_title(\"\u2202f/\u2202x from gradient\")\nplt.colorbar(im0, ax=axes[0, 0], shrink=0.62)\n\n# \u2202f/\u2202y from gradient\nim1 = axes[0, 1].imshow(gradient_3d[1][:, :, z_slice_idx].cpu().numpy(), vmin=df_dy_3d_min, vmax=df_dy_3d_max)\naxes[0, 1].set_title(\"\u2202f/\u2202y from gradient\")\nplt.colorbar(im1, ax=axes[0, 1], shrink=0.62)\n\n# \u2202f/\u2202z from gradient\nim2 = axes[0, 2].imshow(gradient_3d[2][:, :, z_slice_idx].cpu().numpy(), vmin=df_dz_3d_min, vmax=df_dz_3d_max)\naxes[0, 2].set_title(\"\u2202f/\u2202z from gradient\")\nplt.colorbar(im2, ax=axes[0, 2], shrink=0.62)\n\n# Reference gradient components (expected values)\nim3 = axes[1, 0].imshow(df_dx_expected_3d_slice.cpu().numpy(), vmin=df_dx_3d_min, vmax=df_dx_3d_max)\naxes[1, 0].set_title(\"\u2202f/\u2202x (expected)\")\nplt.colorbar(im3, ax=axes[1, 0], shrink=0.62)\n\nim4 = axes[1, 1].imshow(df_dy_expected_3d_slice.cpu().numpy(), vmin=df_dy_3d_min, vmax=df_dy_3d_max)\naxes[1, 1].set_title(\"\u2202f/\u2202y (expected)\")\nplt.colorbar(im4, ax=axes[1, 1], shrink=0.62)\n\nim5 = axes[1, 2].imshow(df_dz_expected_3d_slice.cpu().numpy(), vmin=df_dz_3d_min, vmax=df_dz_3d_max)\naxes[1, 2].set_title(\"\u2202f/\u2202z (expected)\")\nplt.colorbar(im5, ax=axes[1, 2], shrink=0.62)\n\nplt.tight_layout()\nplt.show()"
      ]
    },
    {
      "cell_type": "markdown",
      "metadata": {},
      "source": [
        ".. raw:: html\n\n   <div style=\"margin-top: 3em;\"></div>\n\n## Test 3D vector field operations\nCreate a 3D vector field: u = [exp(-x), sin(y), cos(z)]\n\n"
      ]
    },
    {
      "cell_type": "code",
      "execution_count": null,
      "metadata": {
        "collapsed": false
      },
      "outputs": [],
      "source": [
        "u1_3d = torch.exp(-X)\nu2_3d = torch.sin(Y)\nu3_3d = torch.cos(Z)\nu_vector_3d = torch.stack([u1_3d, u2_3d, u3_3d], dim=0)\n\n# Compute divergence\ndivergence_3d = fd3d.divergence(u_vector_3d)\n\n# Expected analytical results\n# \u2207\u00b7u = \u2202u\u2081/\u2202x + \u2202u\u2082/\u2202y + \u2202u\u2083/\u2202z\ndivergence_3d_expected = -torch.exp(-X) + torch.cos(Y) - torch.sin(Z)"
      ]
    },
    {
      "cell_type": "markdown",
      "metadata": {},
      "source": [
        ".. raw:: html\n\n   <div style=\"margin-top: 3em;\"></div>\n\n## Plot 3D vector field operations at z-slice\n\n"
      ]
    },
    {
      "cell_type": "code",
      "execution_count": null,
      "metadata": {
        "collapsed": false
      },
      "outputs": [],
      "source": [
        "fig, axes = plt.subplots(2, 3, figsize=(18, 12))\nfig.suptitle(f\"3D Vector Field Operations: u = [exp(-x), sin(y), cos(z)] at z = {z_slice_val:.2f}\")\n\n# Compute consistent colorbar limits for vector field components at z-slice\nu1_3d_slice = u1_3d[:, :, z_slice_idx]\nu2_3d_slice = u2_3d[:, :, z_slice_idx]\nu3_3d_slice = u3_3d[:, :, z_slice_idx]\n\nu1_3d_min = min(u1_3d_slice.min().item(), u1_3d_slice.max().item())\nu1_3d_max = max(u1_3d_slice.min().item(), u1_3d_slice.max().item())\nu2_3d_min = min(u2_3d_slice.min().item(), u2_3d_slice.max().item())\nu2_3d_max = max(u2_3d_slice.min().item(), u2_3d_slice.max().item())\nu3_3d_min = min(u3_3d_slice.min().item(), u3_3d_slice.max().item())\nu3_3d_max = max(u3_3d_slice.min().item(), u3_3d_slice.max().item())\n\n# Compute consistent colorbar limits for divergence at z-slice\ndiv_3d_slice = divergence_3d[:, :, z_slice_idx]\ndiv_3d_expected_slice = divergence_3d_expected[:, :, z_slice_idx]\ndiv_3d_min = min(div_3d_slice.min().item(), div_3d_expected_slice.min().item())\ndiv_3d_max = max(div_3d_slice.max().item(), div_3d_expected_slice.max().item())\n\n# Vector field components\nim0 = axes[0, 0].imshow(u1_3d_slice.cpu().numpy(), vmin=u1_3d_min, vmax=u1_3d_max)\naxes[0, 0].set_title(\"u\u2081 = exp(-x)\")\nplt.colorbar(im0, ax=axes[0, 0], shrink=0.62)\n\nim1 = axes[0, 1].imshow(u2_3d_slice.cpu().numpy(), vmin=u2_3d_min, vmax=u2_3d_max)\naxes[0, 1].set_title(\"u\u2082 = sin(y)\")\nplt.colorbar(im1, ax=axes[0, 1], shrink=0.62)\n\nim2 = axes[0, 2].imshow(u3_3d_slice.cpu().numpy(), vmin=u3_3d_min, vmax=u3_3d_max)\naxes[0, 2].set_title(\"u\u2083 = cos(z)\")\nplt.colorbar(im2, ax=axes[0, 2], shrink=0.62)\n\n# Divergence\nim3 = axes[1, 0].imshow(div_3d_slice.cpu().numpy(), vmin=div_3d_min, vmax=div_3d_max)\naxes[1, 0].set_title(\"\u2207\u00b7u (computed)\")\nplt.colorbar(im3, ax=axes[1, 0], shrink=0.62)\n\n# Divergence expected\nim4 = axes[1, 1].imshow(div_3d_expected_slice.cpu().numpy(), vmin=div_3d_min, vmax=div_3d_max)\naxes[1, 1].set_title(\"\u2207\u00b7u (expected: -exp(-x) + cos(y) - sin(z))\")\nplt.colorbar(im4, ax=axes[1, 1], shrink=0.62)\n\n# Empty plot for symmetry\naxes[1, 2].set_visible(False)\n\nplt.tight_layout()\nplt.show()"
      ]
    }
  ],
  "metadata": {
    "kernelspec": {
      "display_name": "Python 3",
      "language": "python",
      "name": "python3"
    },
    "language_info": {
      "codemirror_mode": {
        "name": "ipython",
        "version": 3
      },
      "file_extension": ".py",
      "mimetype": "text/x-python",
      "name": "python",
      "nbconvert_exporter": "python",
      "pygments_lexer": "ipython3",
      "version": "3.13.7"
    }
  },
  "nbformat": 4,
  "nbformat_minor": 0
}