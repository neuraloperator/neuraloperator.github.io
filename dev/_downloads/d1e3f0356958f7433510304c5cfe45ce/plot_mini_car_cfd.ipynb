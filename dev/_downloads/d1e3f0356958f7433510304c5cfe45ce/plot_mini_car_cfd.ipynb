{
  "cells": [
    {
      "cell_type": "markdown",
      "metadata": {},
      "source": [
        "\n# Visualizing computational fluid dynamics on a car\nIn this example we visualize a mesh drawn from the `CarCFDDataset <car_cfd_dataset_api>`.\n\nThis tutorial demonstrates how to work with unstructured mesh data from computational fluid dynamics (CFD)\nsimulations. We will explore the 3D geometry of a car and understand how pressure fields are distributed\nover the surface, which is crucial for aerodynamic analysis and neural operator applications.\n\nThe CarCFD dataset contains:\n- 3D triangular mesh data representing the car surface\n- Pressure fields computed from CFD simulations\n- Query points for neural operator training\n"
      ]
    },
    {
      "cell_type": "markdown",
      "metadata": {},
      "source": [
        ".. raw:: html\n\n   <div style=\"margin-top: 3em;\"></div>\n\n## Import dependencies\nWe first import our `neuralop` library and required dependencies.\n\n"
      ]
    },
    {
      "cell_type": "code",
      "execution_count": null,
      "metadata": {
        "collapsed": false
      },
      "outputs": [],
      "source": [
        "import numpy as np\nimport torch\nimport matplotlib\nimport matplotlib.pyplot as plt\nfrom neuralop.data.datasets import load_mini_car\n\nfont = {\"size\": 12}\nmatplotlib.rc(\"font\", **font)\n\ntorch.manual_seed(0)\nnp.random.seed(0)"
      ]
    },
    {
      "cell_type": "markdown",
      "metadata": {},
      "source": [
        ".. raw:: html\n\n   <div style=\"margin-top: 3em;\"></div>\n\n## Understanding the data structure\nThe data in a ``MeshDataModule`` is structured as a dictionary of tensors and important scalar values encoding\na 3D triangle mesh over the surface of a car.\nEach sample includes the coordinates of all triangle vertices and the centroids of each triangle face.\n\nIn this case, the creators used OpenFOAM to simulate the surface air pressure on car geometries in a wind tunnel.\nThe 3D Navier-Stokes equations were simulated for a variety of inlet velocities over each surface using the\n**OpenFOAM** computational solver to predict pressure at every vertex on the mesh.\nEach sample here also has an inlet velocity scalar and a pressure field that maps 1-to-1 with the vertices on the mesh.\nThe `full CarCFDDataset <car_cfd_dataset_api>` is stored in triangle mesh files for downstream processing.\nFor the sake of simplicity, we've packaged a few examples of the data after processing in tensor form to visualize here:\n\n"
      ]
    },
    {
      "cell_type": "code",
      "execution_count": null,
      "metadata": {
        "collapsed": false
      },
      "outputs": [],
      "source": [
        "data_list = load_mini_car()\nsample = data_list[0]\nprint(f\"Available data keys: {sample.keys()}\")"
      ]
    },
    {
      "cell_type": "markdown",
      "metadata": {},
      "source": [
        ".. raw:: html\n\n   <div style=\"margin-top: 3em;\"></div>\n\n## Visualizing the car surface with pressure distribution\nLet's take a look at the vertices and pressure values to understand the 3D structure\nand how pressure varies across the car surface.\n\n"
      ]
    },
    {
      "cell_type": "code",
      "execution_count": null,
      "metadata": {
        "collapsed": false
      },
      "outputs": [],
      "source": [
        "fig = plt.figure(figsize=(10, 8))\nax = fig.add_subplot(projection=\"3d\")\n\n# By default the data is normalized into the unit cube. To get a\n# better look at it, we scale the z-direction up.\nscatter = ax.scatter(sample[\"vertices\"][:, 0], sample[\"vertices\"][:, 1],\n                     sample[\"vertices\"][:, 2] * 2, s=2, c=sample[\"press\"].numpy(), cmap=\"viridis\") \nax.set_xlim(0,2)\nax.set_ylim(0,2)\nax.set_xlabel(\"x\")\nax.set_ylabel(\"y\")\nax.set_zlabel(\"z\")\nax.view_init(elev=20, azim=150, roll=0, vertical_axis=\"y\")\nax.set_title(\"Pressure distribution over car mesh vertices\")\nfig.colorbar(scatter, pad=0.2, label=\"normalized pressure\", ax=ax)\nplt.draw()"
      ]
    },
    {
      "cell_type": "markdown",
      "metadata": {},
      "source": [
        ".. raw:: html\n\n   <div style=\"margin-top: 3em;\"></div>\n\n## Understanding query points for neural operator training\nEach sample in the ``CarCFDDataset`` also includes a set of latent query points on which we learn a function\nto enable learning with an FNO in the middle of our geometry-informed models. Let's visualize the queries\non top of the car from before:\n\n"
      ]
    },
    {
      "cell_type": "code",
      "execution_count": null,
      "metadata": {
        "collapsed": false
      },
      "outputs": [],
      "source": [
        "fig = plt.figure(figsize=(8,10))\nax = fig.add_subplot(projection=\"3d\")\nscatter = ax.scatter(sample[\"vertices\"][:, 0], sample[\"vertices\"][:, 1], sample[\"vertices\"][:, 2] * 2, s=4, label=\"Car surface\")\nqueries = sample[\"query_points\"].view(-1, 3) # unroll our cube tensor into a point cloud\nax.scatter(queries[:, 0], queries[:, 1], queries[:, 2] * 2, s=1, alpha=0.5, label=\"Latent queries\")\n\nax.set_xlim(0, 2)\nax.set_ylim(0, 2)\nax.set_xlabel(\"x\")\nax.set_ylabel(\"y\")\nax.set_zlabel(\"z\")\nax.legend()\nax.view_init(elev=20, azim=150, roll=0, vertical_axis=\"y\")\nax.set_title(\"Query points and car surface vertices\")"
      ]
    },
    {
      "cell_type": "markdown",
      "metadata": {},
      "source": [
        ".. raw:: html\n\n   <div style=\"margin-top: 3em;\"></div>\n\n## Neighbor search between 3D point clouds\nIn :doc:`../layers/plot_neighbor_search` we demonstrate our neighbor search\non a simple 2D point cloud. Let's try that again with our 3D car surface points here.\n\n"
      ]
    },
    {
      "cell_type": "code",
      "execution_count": null,
      "metadata": {
        "collapsed": false
      },
      "outputs": [],
      "source": [
        "from neuralop.layers.neighbor_search import native_neighbor_search\n\nverts = sample[\"vertices\"]\nquery_point = queries[3300]\nnbr_data = native_neighbor_search(data=verts, queries=query_point.unsqueeze(0), radius=0.5)"
      ]
    },
    {
      "cell_type": "markdown",
      "metadata": {},
      "source": [
        "Let's plot the new neighbors we just found on top of the car surface point cloud.\n\n"
      ]
    },
    {
      "cell_type": "code",
      "execution_count": null,
      "metadata": {
        "collapsed": false
      },
      "outputs": [],
      "source": [
        "fig = plt.figure(figsize=(8, 10))\nax1 = fig.add_subplot(2, 1, 1, projection=\"3d\")\nax2 = fig.add_subplot(2, 1, 2, projection=\"3d\")\nneighbors = verts[nbr_data[\"neighbors_index\"]]\n\n# Plotting just one query point vs. the car\nax1.scatter(verts[:, 0], verts[:, 1], verts[:, 2]*2, s=1, alpha=0.1)\nax1.scatter(query_point[0], query_point[1], query_point[2]*2, s=10, c=\"red\", label=\"Single query\")\nax1.view_init(elev=20, azim=-20, roll=0, vertical_axis=\"y\")\nax1.legend()\nax1.set_xlim(0, 2)\nax1.set_ylim(0, 2)\nax1.set_xlabel(\"x\")\nax1.set_ylabel(\"y\")\nax1.set_zlabel(\"z\")\nax1.view_init(elev=20, azim=-20, roll=0, vertical_axis=\"y\")\nax1.grid(False)\nax1.set_title(\"One query point\")\n\n# Plotting all query points and neighbors\nax2.scatter(verts[:, 0], verts[:, 1], verts[:, 2]*2, s=0.5, alpha=0.4, label=\"Car surface\")\nax2.scatter(queries[:, 0], queries[:, 1], queries[:, 2]*2, s=0.5, alpha=0.2, label=\"Latent queries\")\nax2.scatter(neighbors[:, 0], neighbors[:, 1], neighbors[:, 2]*2, s=10, label=\"Neighbors on\\ncar surface\",)\nax2.legend()\nax2.set_xlim(0, 2)\nax2.set_ylim(0, 2)\nax2.set_xlabel(\"x\")\nax2.set_ylabel(\"y\")\nax2.set_zlabel(\"z\")\nax2.view_init(elev=20, azim=-20, roll=0, vertical_axis=\"y\")\nax2.set_title(\"Neighbor points from car for one query point\")\nax2.grid(False)\n\nfor ax in ax1, ax2:\n    ax.set_xticks([])\n    ax.set_yticks([])\n    ax.set_zticks([])\nplt.draw()"
      ]
    },
    {
      "cell_type": "markdown",
      "metadata": {},
      "source": [
        ".. raw:: html\n\n   <div style=\"margin-top: 3em;\"></div>\n\n## Connecting neighbors to query\nFirst, let's make a simple utiltiy to add arrows to our 3D plot:\n\n"
      ]
    },
    {
      "cell_type": "code",
      "execution_count": null,
      "metadata": {
        "collapsed": false
      },
      "outputs": [],
      "source": [
        "import numpy as np\nfrom matplotlib import pyplot as plt\nfrom matplotlib.patches import FancyArrowPatch\nfrom mpl_toolkits.mplot3d import proj3d\n\n\nclass Arrow3D(FancyArrowPatch):\n    def __init__(self, xs, ys, zs, *args, **kwargs):\n        super().__init__((0, 0), (0, 0), *args, **kwargs)\n        self._verts3d = xs, ys, zs\n\n    def do_3d_projection(self, renderer=None):\n        xs3d, ys3d, zs3d = self._verts3d\n        xs, ys, zs = proj3d.proj_transform(xs3d, ys3d, zs3d, self.axes.M)\n        self.set_positions((xs[0], ys[0]), (xs[1], ys[1]))\n\n        return np.min(zs)\n\n\n# Creating plots\nfig = plt.figure(figsize=(8, 10))\nax1 = fig.add_subplot(projection=\"3d\")\nneighbors = verts[nbr_data[\"neighbors_index\"]]\n\n# Plotting just one query point vs. the car\nax1.scatter(verts[:, 0], verts[:, 1], verts[:, 2]*2, s=1, alpha=0.1)\nax1.scatter(query_point[0], query_point[1], query_point[2]*2, s=10, c=\"red\", label=\"Single query\")\nax1.scatter(neighbors[:, 0], neighbors[:, 1], neighbors[:, 2]*2, s=10, label=\"Neighbors on\\ncar surface\",)\n\nax1.view_init(elev=20, azim=-20, roll=0, vertical_axis=\"y\")\nax1.legend()\nax1.set_xlim(0, 2)\nax1.set_ylim(0, 2)\nax1.set_xlabel(\"x\")\nax1.set_ylabel(\"y\")\nax1.set_zlabel(\"z\")\nax1.view_init(elev=20, azim=-20, roll=0, vertical_axis=\"y\")\nax1.grid(False)\nax1.set_title(\"One query point\")\n\n\nfor ax in [ax1]:\n    ax.set_xticks([])\n    ax.set_yticks([])\n    ax.set_zticks([])\n\n# Add arrows between neighbors and query\narrow_prop_dict = dict(mutation_scale=1, arrowstyle=\"-|>\", color=\"red\", shrinkA=1, shrinkB=1, alpha=0.1)\nfor nbr in neighbors:\n    a = Arrow3D(\n        [query_point[0], nbr[0]],\n        [query_point[1], nbr[1]],\n        [query_point[2] * 2, nbr[2] * 2],\n        **arrow_prop_dict,\n    )\n    ax1.add_artist(a)\n\nfig.tight_layout()\nplt.draw()"
      ]
    }
  ],
  "metadata": {
    "kernelspec": {
      "display_name": "Python 3",
      "language": "python",
      "name": "python3"
    },
    "language_info": {
      "codemirror_mode": {
        "name": "ipython",
        "version": 3
      },
      "file_extension": ".py",
      "mimetype": "text/x-python",
      "name": "python",
      "nbconvert_exporter": "python",
      "pygments_lexer": "ipython3",
      "version": "3.13.7"
    }
  },
  "nbformat": 4,
  "nbformat_minor": 0
}