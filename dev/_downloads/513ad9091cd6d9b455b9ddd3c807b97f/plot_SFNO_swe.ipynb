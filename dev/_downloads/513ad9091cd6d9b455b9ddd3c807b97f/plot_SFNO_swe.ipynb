{
  "cells": [
    {
      "cell_type": "markdown",
      "metadata": {},
      "source": [
        "\n# Training a SFNO on the spherical Shallow Water equations\n\nUsing the small Spherical Shallow Water Equations example we ship with the package\nto train a Spherical Fourier-Neural Operator (SFNO).\n\nThis tutorial demonstrates how to train neural operators on spherical domains, which is\ncrucial for many geophysical applications like weather prediction, ocean modeling, and\nclimate science. The SFNO extends the FNO architecture to handle data on the sphere\nusing spherical harmonics instead of regular Fourier modes.\n\nThe Shallow Water Equations describe the motion of a thin layer of fluid and are\nfundamental in atmospheric and oceanic dynamics.\n"
      ]
    },
    {
      "cell_type": "markdown",
      "metadata": {},
      "source": [
        ".. raw:: html\n\n   <div style=\"margin-top: 3em;\"></div>\n\n## Import dependencies\nWe import the necessary modules for training a Spherical Fourier Neural Operator\n\n"
      ]
    },
    {
      "cell_type": "code",
      "execution_count": null,
      "metadata": {
        "collapsed": false
      },
      "outputs": [],
      "source": [
        "import torch\nimport matplotlib.pyplot as plt\nimport sys\nfrom neuralop.models import SFNO\nfrom neuralop import Trainer\nfrom neuralop.training import AdamW\nfrom neuralop.data.datasets import load_spherical_swe\nfrom neuralop.utils import count_model_params\nfrom neuralop import LpLoss, H1Loss\n\ndevice = torch.device(\"cuda:0\" if torch.cuda.is_available() else \"cpu\")"
      ]
    },
    {
      "cell_type": "markdown",
      "metadata": {},
      "source": [
        ".. raw:: html\n\n   <div style=\"margin-top: 3em;\"></div>\n\n## Loading the Spherical Shallow Water Equations dataset\nWe load the spherical shallow water equations dataset with multiple resolutions.\nThe dataset contains velocity and height fields on the sphere, which are the\nfundamental variables in shallow water dynamics.\n\n"
      ]
    },
    {
      "cell_type": "code",
      "execution_count": null,
      "metadata": {
        "collapsed": false
      },
      "outputs": [],
      "source": [
        "train_loader, test_loaders = load_spherical_swe(\n    n_train=200,\n    batch_size=32,\n    train_resolution=(32, 64),\n    test_resolutions=[(32, 64), (64, 128)],\n    n_tests=[40, 40],\n    test_batch_sizes=[40, 40],\n)"
      ]
    },
    {
      "cell_type": "markdown",
      "metadata": {},
      "source": [
        ".. raw:: html\n\n   <div style=\"margin-top: 3em;\"></div>\n\n## Creating the Spherical FNO model\n\n"
      ]
    },
    {
      "cell_type": "code",
      "execution_count": null,
      "metadata": {
        "collapsed": false
      },
      "outputs": [],
      "source": [
        "model = SFNO(\n    n_modes=(16, 32),\n    in_channels=3,\n    out_channels=3,\n    hidden_channels=64,\n    domain_padding=[0.05, 0.05],\n    n_layers=2,\n)\nmodel = model.to(device)\n\n# Count and display the number of parameters\nn_params = count_model_params(model)\nprint(f\"\\nOur model has {n_params} parameters.\")\nsys.stdout.flush()"
      ]
    },
    {
      "cell_type": "markdown",
      "metadata": {},
      "source": [
        ".. raw:: html\n\n   <div style=\"margin-top: 3em;\"></div>\n\n## Creating the optimizer and scheduler\nWe use AdamW optimizer with a lower learning rate for spherical data\n\n"
      ]
    },
    {
      "cell_type": "code",
      "execution_count": null,
      "metadata": {
        "collapsed": false
      },
      "outputs": [],
      "source": [
        "optimizer = AdamW(model.parameters(), lr=5e-3, weight_decay=1e-4)\nscheduler = torch.optim.lr_scheduler.CosineAnnealingLR(optimizer, T_max=30)"
      ]
    },
    {
      "cell_type": "markdown",
      "metadata": {},
      "source": [
        ".. raw:: html\n\n   <div style=\"margin-top: 3em;\"></div>\n\n## Setting up loss functions\nFor spherical data, we use L2 loss with sum reduction to handle the varying\ngrid sizes across different latitudes on the sphere\n\n"
      ]
    },
    {
      "cell_type": "code",
      "execution_count": null,
      "metadata": {
        "collapsed": false
      },
      "outputs": [],
      "source": [
        "l2loss = LpLoss(d=2, p=2, reduction=\"sum\")\n\ntrain_loss = l2loss\neval_losses = {\"l2\": l2loss}"
      ]
    },
    {
      "cell_type": "code",
      "execution_count": null,
      "metadata": {
        "collapsed": false
      },
      "outputs": [],
      "source": [
        "print(\"\\n### MODEL ###\\n\", model)\nprint(\"\\n### OPTIMIZER ###\\n\", optimizer)\nprint(\"\\n### SCHEDULER ###\\n\", scheduler)\nprint(\"\\n### LOSSES ###\")\nprint(f\"\\n * Train: {train_loss}\")\nprint(f\"\\n * Test: {eval_losses}\")\nsys.stdout.flush()"
      ]
    },
    {
      "cell_type": "markdown",
      "metadata": {},
      "source": [
        ".. raw:: html\n\n   <div style=\"margin-top: 3em;\"></div>\n\n## Creating the trainer\nWe create a Trainer object that handles the training loop for spherical data\n\n"
      ]
    },
    {
      "cell_type": "code",
      "execution_count": null,
      "metadata": {
        "collapsed": false
      },
      "outputs": [],
      "source": [
        "trainer = Trainer(\n    model=model,\n    n_epochs=30,\n    device=device,\n    wandb_log=False,  # Disable Weights & Biases logging\n    eval_interval=5,  # Evaluate every 5 epochs\n    use_distributed=False,  # Single GPU/CPU training\n    verbose=True,  # Print training progress\n)"
      ]
    },
    {
      "cell_type": "markdown",
      "metadata": {},
      "source": [
        ".. raw:: html\n\n   <div style=\"margin-top: 3em;\"></div>\n\n## Training the SFNO model\nWe train the model on the spherical shallow water equations dataset.\nThe trainer will handle the forward pass through the SFNO, compute the L2 loss,\nbackpropagate, and evaluate on test data.\n\n"
      ]
    },
    {
      "cell_type": "code",
      "execution_count": null,
      "metadata": {
        "collapsed": false
      },
      "outputs": [],
      "source": [
        "trainer.train(\n    train_loader=train_loader,\n    test_loaders=test_loaders,\n    optimizer=optimizer,\n    scheduler=scheduler,\n    regularizer=False,\n    training_loss=train_loss,\n    eval_losses=eval_losses,\n)"
      ]
    },
    {
      "cell_type": "markdown",
      "metadata": {},
      "source": [
        ".. raw:: html\n\n   <div style=\"margin-top: 3em;\"></div>\n\n## Visualizing SFNO predictions on spherical data\nWe visualize the model's predictions on spherical shallow water equations data.\nNote that we trained on a very small resolution for a very small number of epochs.\nIn practice, we would train at larger resolution on many more samples.\n\nHowever, for practicality, we created a minimal example that:\ni) fits in just a few MB of memory\nii) can be trained quickly on CPU\n\nIn practice we would train a Neural Operator on one or multiple GPUs\n\n"
      ]
    },
    {
      "cell_type": "code",
      "execution_count": null,
      "metadata": {
        "collapsed": false
      },
      "outputs": [],
      "source": [
        "fig = plt.figure(figsize=(14, 7))\nfor index, resolution in enumerate([(32, 64), (64, 128)]):\n    test_samples = test_loaders[resolution].dataset\n    data = test_samples[0]\n    # Input x\n    x = data[\"x\"]\n    # Ground-truth\n    y = data[\"y\"][0, ...].numpy()\n    # Model prediction: SFNO output\n    x_in = x.unsqueeze(0).to(device)\n    out = model(x_in).squeeze()[0, ...].detach().cpu().numpy()\n    x = x[0, ...].detach().numpy()\n\n    # Plot input fields\n    ax = fig.add_subplot(2, 3, index * 3 + 1)\n    ax.imshow(x)\n    ax.set_title(f\"Input x {resolution}\")\n    plt.xticks([], [])\n    plt.yticks([], [])\n\n    # Compute the min and max to use consistent color mapping\n    vmin = y.min()\n    vmax = y.max()\n\n    # Plot ground-truth fields\n    ax = fig.add_subplot(2, 3, index * 3 + 2)\n    im_gt = ax.imshow(y, vmin=vmin, vmax=vmax)\n    ax.set_title(\"Ground-truth y\")\n    plt.xticks([], [])\n    plt.yticks([], [])\n\n    # Plot model prediction\n    ax = fig.add_subplot(2, 3, index * 3 + 3)\n    im_pred = ax.imshow(out, vmin=vmin, vmax=vmax)\n    ax.set_title(\"SFNO prediction\")\n    plt.xticks([], [])\n    plt.yticks([], [])\n\nfig.suptitle(\"SFNO predictions on spherical shallow water equations\", y=0.98, fontsize=24)\nplt.tight_layout()\nfig.show()"
      ]
    }
  ],
  "metadata": {
    "kernelspec": {
      "display_name": "Python 3",
      "language": "python",
      "name": "python3"
    },
    "language_info": {
      "codemirror_mode": {
        "name": "ipython",
        "version": 3
      },
      "file_extension": ".py",
      "mimetype": "text/x-python",
      "name": "python",
      "nbconvert_exporter": "python",
      "pygments_lexer": "ipython3",
      "version": "3.13.7"
    }
  },
  "nbformat": 4,
  "nbformat_minor": 0
}