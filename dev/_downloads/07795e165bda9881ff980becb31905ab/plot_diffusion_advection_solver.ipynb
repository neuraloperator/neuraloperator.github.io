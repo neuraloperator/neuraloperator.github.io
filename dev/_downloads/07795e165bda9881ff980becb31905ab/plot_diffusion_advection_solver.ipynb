{
  "cells": [
    {
      "cell_type": "markdown",
      "metadata": {},
      "source": [
        "\n\n# A simple finite-difference solver\nAn intro to our loss module's finite difference utility demonstrating\nits use to create a simple numerical solver for the diffusion-advection equation.\n"
      ]
    },
    {
      "cell_type": "markdown",
      "metadata": {},
      "source": [
        "## Import the library\nWe first import our `neuralop` library and required dependencies.\n\n"
      ]
    },
    {
      "cell_type": "code",
      "execution_count": null,
      "metadata": {
        "collapsed": false
      },
      "outputs": [],
      "source": [
        "import torch\nimport numpy as np\nimport matplotlib.pyplot as plt\nimport matplotlib.animation as animation\n\nfrom neuralop.losses.differentiation import FiniteDiff  \n\ndevice = torch.device(\"cuda\" if torch.cuda.is_available() else \"cpu\")"
      ]
    },
    {
      "cell_type": "markdown",
      "metadata": {},
      "source": [
        "## Defining our problem\nWe aim to solve the 2D diffusion advection equation:\n\n$u_t + cx \\cdot u_x + cy \\cdot u_y = \\nu (u_xx + u_yy) + f(x,y,t)$,\n\nWhere $f(x,y,t)$ is a source term and $cx$ and $cy$ are advection speeds in x and y.\nWe set simulation parameters below:\n\n"
      ]
    },
    {
      "cell_type": "code",
      "execution_count": null,
      "metadata": {
        "collapsed": false
      },
      "outputs": [],
      "source": [
        "## Simulation parameters\nLx, Ly = 2.0, 2.0   # Domain lengths\nnx, ny = 64, 64   # Grid resolution\nT = 1.6    # Total simulation time\ndt = 0.001  # Time step\nnu = 0.02   # diffusion coefficient\ncx, cy = 1.0, 0.6  # advection speeds\n\n## Create grid\nX = torch.linspace(0, Lx, nx, device=device).repeat(ny, 1).T \nY = torch.linspace(0, Ly, ny, device=device).repeat(nx, 1)  \ndx = Lx / (nx - 1)\ndy = Ly / (ny - 1)\nnt = int(T / dt)\n\n## Initialize finite difference operator\nfd = FiniteDiff(dim=2, h=(dx, dy))\n\n\n## Initial condition and source term\nu = (-torch.sin(2 * np.pi * Y) * torch.cos(2 * np.pi * X)\n        + 0.3 * torch.exp(-((X - 0.75)**2 + (Y - 0.5)**2) / 0.02)\n        - 0.3 * torch.exp(-((X - 1.25)**2 + (Y - 1.5)**2) / 0.02)).to(device)\n\ndef source_term(X, Y, t):\n    return 0.2 * torch.sin(3 * np.pi * X) * torch.cos(3 * np.pi * Y) * torch.cos(4 * np.pi * t)"
      ]
    },
    {
      "cell_type": "markdown",
      "metadata": {},
      "source": [
        "## Simulate evolution using numerical solver\n\n"
      ]
    },
    {
      "cell_type": "code",
      "execution_count": null,
      "metadata": {
        "collapsed": false
      },
      "outputs": [],
      "source": [
        "u_evolution = [u.clone()]\n\nt = torch.tensor(0.0)\nfor _ in range(nt):\n    \n    # Compute derivatives\n    u_x = fd.dx(u)\n    u_y = fd.dy(u)\n    u_xx = fd.dx(u_x)\n    u_yy = fd.dy(u_y)\n\n    # Evolve one step in time using Euler's method\n    u = u + dt * (-cx * u_x - cy * u_y + nu * (u_xx + u_yy) + source_term(X, Y, t))\n    t += dt\n    u_evolution.append(u.clone())\n\nu_evolution = torch.stack(u_evolution).cpu().numpy()"
      ]
    },
    {
      "cell_type": "markdown",
      "metadata": {},
      "source": [
        "## Animate our solution\n\n"
      ]
    },
    {
      "cell_type": "code",
      "execution_count": null,
      "metadata": {
        "collapsed": false
      },
      "outputs": [],
      "source": [
        "num_frames = 100\nframe_indices = torch.linspace(0, len(u_evolution) - 1, num_frames, dtype=torch.int).cpu().numpy()\nu_frames = u_evolution[frame_indices]\n\nfig, ax = plt.subplots(figsize=(6, 6))\ncmap_u = ax.imshow(u_frames[0], extent=[0, Lx, 0, Ly], origin=\"lower\", cmap=\"plasma\")\nax.set_title(\"Advection-Diffusion: u\")\nplt.colorbar(cmap_u, ax=ax, shrink=0.75)\n\ndef update(frame):\n    cmap_u.set_data(u_frames[frame])\n    ax.set_title(f\"Time: {frame_indices[frame] * dt:.3f}\")\n    ax.set_xticks([])\n    ax.set_yticks([])\n    return cmap_u,\n\nani = animation.FuncAnimation(fig, update, frames=len(u_frames), interval=50, blit=False)"
      ]
    }
  ],
  "metadata": {
    "kernelspec": {
      "display_name": "Python 3",
      "language": "python",
      "name": "python3"
    },
    "language_info": {
      "codemirror_mode": {
        "name": "ipython",
        "version": 3
      },
      "file_extension": ".py",
      "mimetype": "text/x-python",
      "name": "python",
      "nbconvert_exporter": "python",
      "pygments_lexer": "ipython3",
      "version": "3.13.7"
    }
  },
  "nbformat": 4,
  "nbformat_minor": 0
}