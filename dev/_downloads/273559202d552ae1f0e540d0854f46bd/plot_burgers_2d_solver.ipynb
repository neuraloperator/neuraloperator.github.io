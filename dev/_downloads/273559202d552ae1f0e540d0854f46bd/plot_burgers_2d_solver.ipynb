{
  "cells": [
    {
      "cell_type": "markdown",
      "metadata": {},
      "source": [
        "\n\n# A Numerical Solver for Burgers' Equation in 2 Dimensions \nAn intro to our loss module's finite difference utility demonstrating\nits use to create a simple numerical solver for Burgers' equation in 2d.\n"
      ]
    },
    {
      "cell_type": "markdown",
      "metadata": {},
      "source": [
        "## Import the library\nWe first import our `neuralop` library and required dependencies.\n\n"
      ]
    },
    {
      "cell_type": "code",
      "execution_count": null,
      "metadata": {
        "collapsed": false
      },
      "outputs": [],
      "source": [
        "import torch\nimport numpy as np\nimport matplotlib.pyplot as plt\nimport matplotlib.animation as animation\nfrom neuralop.losses.finite_diff import central_diff_2d  \n\ndevice = torch.device(\"cuda\" if torch.cuda.is_available() else \"cpu\")"
      ]
    },
    {
      "cell_type": "markdown",
      "metadata": {},
      "source": [
        "## Defining our problem\nWe aim to solve the 2D viscous Burger's equations:\n\n:math: `u_t + u \\cdot u_x + v \\cdot u_y = \\nu (u_xx + u_yy)`\n\n:math: `v_t + u \\cdot v_x + v \\cdot v_y = \\nu (v_xx + v_yy)`\n\n"
      ]
    },
    {
      "cell_type": "code",
      "execution_count": null,
      "metadata": {
        "collapsed": false
      },
      "outputs": [],
      "source": [
        "## Simulation parameters\nLx, Ly = 2.0, 2.0   # Domain lengths\nnx, ny = 64, 64   # Grid resolution\nT = 1    # Total simulation time\ndt = 0.001  # Time step\nnu = 0.04   # Viscosity\n\n## Create grid\nX = torch.linspace(0, Lx, nx, device=device).repeat(ny, 1).T \nY = torch.linspace(0, Ly, ny, device=device).repeat(nx, 1)  \ndx = Lx / (nx-1)\ndy = Ly / (ny-1)\nnt = int(T / dt)\n\n## Initial condition \nu = -torch.sin(2 * np.pi * Y).to(device)\nv =  torch.cos(2 * np.pi * X).to(device)"
      ]
    },
    {
      "cell_type": "markdown",
      "metadata": {},
      "source": [
        "## Simulate evolution using numerical solver\n\n"
      ]
    },
    {
      "cell_type": "code",
      "execution_count": null,
      "metadata": {
        "collapsed": false
      },
      "outputs": [],
      "source": [
        "u_evolution = [u.clone()]\nv_evolution = [v.clone()]\n\nfor _ in range(nt):\n    \n    # Compute first-order derivatives\n    u_x, u_y = central_diff_2d(u, [dx, dy])\n    v_x, v_y = central_diff_2d(v, [dx, dy])\n\n    # Compute second-order derivatives\n    u_xx, _ = central_diff_2d(u_x, [dx, dy])\n    _, u_yy = central_diff_2d(u_y, [dx, dy])\n    v_xx, _ = central_diff_2d(v_x, [dx, dy])\n    _, v_yy = central_diff_2d(v_y, [dx, dy])\n\n    # Evolve in time using Euler's method\n    u_next = u + dt * (-u * u_x - v * u_y + nu * (u_xx + u_yy))\n    v_next = v + dt * (-u * v_x - v * v_y + nu * (v_xx + v_yy))\n    \n    u, v = u_next.clone(), v_next.clone()\n    u_evolution.append(u.clone())\n    v_evolution.append(v.clone())\n\nu_evolution = torch.stack(u_evolution).cpu().numpy()\nv_evolution = torch.stack(v_evolution).cpu().numpy()"
      ]
    },
    {
      "cell_type": "markdown",
      "metadata": {},
      "source": [
        "## Animating the solution\n\n"
      ]
    },
    {
      "cell_type": "code",
      "execution_count": null,
      "metadata": {
        "collapsed": false
      },
      "outputs": [],
      "source": [
        "num_frames = 100\nframe_indices = torch.linspace(0, len(u_evolution) - 1, num_frames, dtype=torch.int).cpu().numpy()\nu_frames = u_evolution[frame_indices]\nv_frames = v_evolution[frame_indices]\n\nfig, axs = plt.subplots(1, 2, figsize=(12, 6))\ncmap_u = axs[0].imshow(u_frames[0], extent=[0, Lx, 0, Ly], origin=\"lower\", cmap=\"plasma\")\naxs[0].set_title(\"Velocity u\")\nplt.colorbar(cmap_u, ax=axs[0], shrink=0.75) \ncmap_v = axs[1].imshow(v_frames[0], extent=[0, Lx, 0, Ly], origin=\"lower\", cmap=\"plasma\")\naxs[1].set_title(\"Velocity v\")\nplt.colorbar(cmap_v, ax=axs[1], shrink=0.75) \n\ndef update(frame):\n    cmap_u.set_data(u_frames[frame])\n    cmap_v.set_data(v_frames[frame])\n    axs[0].set_title(f\"Velocity u (Time: {frame_indices[frame] * dt:.3f})\")\n    axs[1].set_title(f\"Velocity v (Time: {frame_indices[frame] * dt:.3f})\")\n    axs[0].set_xticks([])\n    axs[0].set_yticks([])\n    axs[1].set_xticks([])\n    axs[1].set_yticks([])\n    return cmap_u, cmap_v\n\nani = animation.FuncAnimation(fig, update, frames=len(u_frames), interval=50, blit=False)"
      ]
    }
  ],
  "metadata": {
    "kernelspec": {
      "display_name": "Python 3",
      "language": "python",
      "name": "python3"
    },
    "language_info": {
      "codemirror_mode": {
        "name": "ipython",
        "version": 3
      },
      "file_extension": ".py",
      "mimetype": "text/x-python",
      "name": "python",
      "nbconvert_exporter": "python",
      "pygments_lexer": "ipython3",
      "version": "3.13.7"
    }
  },
  "nbformat": 4,
  "nbformat_minor": 0
}