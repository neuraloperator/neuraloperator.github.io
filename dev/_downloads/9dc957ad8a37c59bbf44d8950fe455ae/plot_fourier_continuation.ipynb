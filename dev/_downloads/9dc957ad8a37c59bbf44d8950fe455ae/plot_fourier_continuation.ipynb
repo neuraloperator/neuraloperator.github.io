{
  "cells": [
    {
      "cell_type": "markdown",
      "metadata": {},
      "source": [
        "\n\n# Fourier Continuation\nAn example of usage of our Fourier continuation layer on 1d and 2d data.\n"
      ]
    },
    {
      "cell_type": "markdown",
      "metadata": {},
      "source": [
        "## Import the library\nWe first import our `neuralop` library and required dependencies.\n\n"
      ]
    },
    {
      "cell_type": "code",
      "execution_count": null,
      "metadata": {
        "collapsed": false
      },
      "outputs": [],
      "source": [
        "import torch\nimport matplotlib.pyplot as plt\nfrom neuralop.layers.fourier_continuation import FCLegendre\n\n\ndevice = torch.device(\"cuda\" if torch.cuda.is_available() else \"cpu\")"
      ]
    },
    {
      "cell_type": "markdown",
      "metadata": {},
      "source": [
        "## Creating an example of 1D curve\nHere we consider sin(16x) - cos(8x), which is not periodic on the interval [0,1]\n\n"
      ]
    },
    {
      "cell_type": "code",
      "execution_count": null,
      "metadata": {
        "collapsed": false
      },
      "outputs": [],
      "source": [
        "length_signal = 101   # length of the original 1D signal\nadd_pts = 40          # number of points to add\nbatch_size = 3        # the Fourier continuation layer can be applied to batches of signals\n\nx = torch.linspace(0, 1, length_signal).repeat(batch_size,1)\nf = torch.sin(16 * x) - torch.cos(8 * x)"
      ]
    },
    {
      "cell_type": "markdown",
      "metadata": {},
      "source": [
        "## Extending the signal\nWe use the Fourier continuation layer to extend the signal\nWe try both extending the signal on one side (right) and on both sides (left and right)\n\n"
      ]
    },
    {
      "cell_type": "code",
      "execution_count": null,
      "metadata": {
        "collapsed": false
      },
      "outputs": [],
      "source": [
        "Extension = FCLegendre(n=2, d=add_pts)\nf_extend_one_side = Extension(f, dim=1, one_sided=True)\nf_extend_both_sides = Extension(f, dim=1, one_sided=False)"
      ]
    },
    {
      "cell_type": "markdown",
      "metadata": {},
      "source": [
        "## Plot the results\n\n"
      ]
    },
    {
      "cell_type": "code",
      "execution_count": null,
      "metadata": {
        "collapsed": false
      },
      "outputs": [],
      "source": [
        "# Define the extended coordinates\nx_extended_one_side = torch.linspace(0, 1.4, 141) \nx_extended_both_sides = torch.linspace(-0.2, 1.2, 141) \n\n# Add 0.5 and -0.5 to the extended functions for visualization purposes\nf_extend_one_side = f_extend_one_side + 0.5\nf_extend_both_sides = f_extend_both_sides - 0.5\n\n\n# Plot the results\nplt.figure(figsize=(10, 6))\nplt.plot(x[0], f[0], 'k', label='original')\nplt.plot(x_extended_one_side, f_extend_one_side[0] , 'b',label='extended_one_side')\nplt.plot(x_extended_both_sides, f_extend_both_sides[0] , 'g', label='extended_both_sides')\nplt.plot([0, 0], [-2.5, 2.5], '-', color='gray', lw=1)  \nplt.plot([1, 1], [-2.5, 2.5], '-', color='gray', lw=1)  \nplt.plot([0, 1.4], [f_extend_one_side[0,0],f_extend_one_side[0,0]], '--', color='b', lw=0.5)  \nplt.plot([-0.2, 1.2], [f_extend_both_sides[0,0],f_extend_both_sides[0,0]], '--', color='g', lw=0.5) \nplt.legend()\nplt.tight_layout()\nplt.show()"
      ]
    },
    {
      "cell_type": "markdown",
      "metadata": {},
      "source": [
        "## Creating an example of a 2D function\nHere we consider sin(12x) - cos(14y) + 3xy, which is not periodic on [0,1]x[0,1]\n\n"
      ]
    },
    {
      "cell_type": "code",
      "execution_count": null,
      "metadata": {
        "collapsed": false
      },
      "outputs": [],
      "source": [
        "length_signal = 101   # length of the signal in each dimension\nadd_pts = 40          # number of points to add in each dimension\nbatch_size = 3        # the Fourier continuation layer can be applied to batches of signals\n\n\nx = torch.linspace(0, 1, length_signal).view(1, length_signal, 1).repeat(batch_size, 1, length_signal)\ny = torch.linspace(0, 1, length_signal).view(1, 1, length_signal).repeat(batch_size, length_signal, 1)\nf = torch.sin(12 * x)  - torch.cos(14 * y) + 3*x*y"
      ]
    },
    {
      "cell_type": "markdown",
      "metadata": {},
      "source": [
        "## Extending the signal\nWe use the Fourier continuation layer to extend the signal\nWe try both extending the signal on one side (right and bottom) and on both sides (left, right, top, and bottom)\n\n"
      ]
    },
    {
      "cell_type": "code",
      "execution_count": null,
      "metadata": {
        "collapsed": false
      },
      "outputs": [],
      "source": [
        "Extension = FCLegendre(n=3, d=add_pts)\nf_extend_one_side = Extension(f, dim=2, one_sided=True)\nf_extend_both_sides = Extension(f, dim=2, one_sided=False)"
      ]
    },
    {
      "cell_type": "markdown",
      "metadata": {},
      "source": [
        "## Plot the results\nWe also add black lines to deliminate the original signal\n\n"
      ]
    },
    {
      "cell_type": "code",
      "execution_count": null,
      "metadata": {
        "collapsed": false
      },
      "outputs": [],
      "source": [
        "fig, axs = plt.subplots(figsize=(12,4), nrows=1, ncols=3)\naxs[0].imshow(f[0])\naxs[0].set_title(r\"Original\", fontsize=17)\naxs[1].imshow(f_extend_one_side[0])\naxs[1].plot([length_signal, length_signal], [0, length_signal], '-', color='k', lw=3)\naxs[1].plot([0, length_signal], [length_signal, length_signal], '-', color='k', lw=3)\naxs[1].set_title(r\"Extended one side\", fontsize=17)\naxs[2].imshow(f_extend_both_sides[0])\naxs[2].set_title(r\"Extended both sides\", fontsize=17)\naxs[2].plot([add_pts//2, length_signal + add_pts//2], [add_pts//2, add_pts//2], '-', color='k', lw=3)\naxs[2].plot([add_pts//2, add_pts//2], [add_pts//2, length_signal + add_pts//2], '-', color='k', lw=3)\naxs[2].plot([add_pts//2, length_signal + add_pts//2], [length_signal + add_pts//2, length_signal + add_pts//2], '-', color='k', lw=3)\naxs[2].plot([length_signal + add_pts//2, length_signal + add_pts//2], [add_pts//2, length_signal + add_pts//2], '-', color='k', lw=3)\nfor ax in axs.flat:\n        ax.set_xticks([])\n        ax.set_yticks([])\nplt.tight_layout()\nplt.show()"
      ]
    }
  ],
  "metadata": {
    "kernelspec": {
      "display_name": "Python 3",
      "language": "python",
      "name": "python3"
    },
    "language_info": {
      "codemirror_mode": {
        "name": "ipython",
        "version": 3
      },
      "file_extension": ".py",
      "mimetype": "text/x-python",
      "name": "python",
      "nbconvert_exporter": "python",
      "pygments_lexer": "ipython3",
      "version": "3.13.5"
    }
  },
  "nbformat": 4,
  "nbformat_minor": 0
}