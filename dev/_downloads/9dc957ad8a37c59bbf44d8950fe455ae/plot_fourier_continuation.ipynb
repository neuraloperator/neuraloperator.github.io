{
  "cells": [
    {
      "cell_type": "markdown",
      "metadata": {},
      "source": [
        "\n\n# Fourier Continuation\nAn example of usage of our Fourier continuation layer on 1d, 2d, and 3d data.\n"
      ]
    },
    {
      "cell_type": "markdown",
      "metadata": {},
      "source": [
        "## Import the library\nWe first import our `neuralop` library and required dependencies.\n\n"
      ]
    },
    {
      "cell_type": "code",
      "execution_count": null,
      "metadata": {
        "collapsed": false
      },
      "outputs": [],
      "source": [
        "import torch\nimport matplotlib.pyplot as plt\nfrom matplotlib.lines import Line2D\nfrom neuralop.layers.fourier_continuation import FCLegendre, FCGram\n\n\ndevice = torch.device(\"cuda\" if torch.cuda.is_available() else \"cpu\")"
      ]
    },
    {
      "cell_type": "markdown",
      "metadata": {},
      "source": [
        "## Creating an example of 1D curve\nHere we consider sin(16x) - cos(8x), which is not periodic on the interval [0,1]\n\n"
      ]
    },
    {
      "cell_type": "code",
      "execution_count": null,
      "metadata": {
        "collapsed": false
      },
      "outputs": [],
      "source": [
        "length_signal = 101   # length of the original 1D signal\nadd_pts = 50          # number of points to add\nbatch_size = 3        # the Fourier continuation layer can be applied to batches of signals\n\nx = torch.linspace(0, 1, length_signal).repeat(batch_size,1)\nf = torch.sin(16 * x) - torch.cos(8 * x)"
      ]
    },
    {
      "cell_type": "markdown",
      "metadata": {},
      "source": [
        "## Extending the signal\nWe use the FC-Legendre and FC-Gram Fourier continuation layers to extend the signal.\n\n"
      ]
    },
    {
      "cell_type": "code",
      "execution_count": null,
      "metadata": {
        "collapsed": false
      },
      "outputs": [],
      "source": [
        "Extension_Legendre = FCLegendre(d=2, n_additional_pts=add_pts)\nf_extend_Legendre = Extension_Legendre(f, dim=1)\n\nExtension_Gram = FCGram(d=4, n_additional_pts=add_pts)\nf_extend_Gram = Extension_Gram(f, dim=1)"
      ]
    },
    {
      "cell_type": "markdown",
      "metadata": {},
      "source": [
        "## Plot the FC-Legendre and FC-Gram results for 1D\n\n"
      ]
    },
    {
      "cell_type": "code",
      "execution_count": null,
      "metadata": {
        "collapsed": false
      },
      "outputs": [],
      "source": [
        "# Define the extended coordinates\nx_extended = torch.linspace(-0.25, 1.25, 151) \n\n# Adjust the extended functions for visualization purposes\nf_extend_Legendre_adjusted = f_extend_Legendre - 0.6\nf_extend_Gram_adjusted = f_extend_Gram + 0.6\n\nplt.figure(figsize=(13, 6))\nplt.plot(x[0], f[0], 'k', label='Original Function', lw=2.2)\nplt.plot(x_extended, f_extend_Gram_adjusted[0], 'b', label='FC-Gram Extension', lw=2.2)\nplt.plot(x_extended, f_extend_Legendre_adjusted[0], 'g', label='FC-Legendre Extension', lw=2.2)\nplt.plot([0, 0], [-2.9, 1.9], '-', color='gray', lw=1.5)  \nplt.plot([1, 1], [-2.9, 1.1], '-', color='gray', lw=1.5)  \nplt.plot([-0.25, 1.25], [f_extend_Legendre_adjusted[0,0],f_extend_Legendre_adjusted[0,0]], '--', color='g', lw=1.6) \nplt.plot([-0.25, 1.25], [f_extend_Gram_adjusted[0,0],f_extend_Gram_adjusted[0,0]], '--', color='b', lw=1.6) \nlegend_elements = [\n        Line2D([0], [0], color='k', lw=2.2, label='Original Function'),\n        Line2D([0], [0], color='b', lw=2.2, label='FC-Gram Extension'),\n        Line2D([0], [0], color='g', lw=2.2, label='FC-Legendre Extension')\n]\nlegend = plt.legend(handles=legend_elements, fontsize=19)\nplt.xlim([-0.28, 1.31])\nplt.ylim([-3.1, 2.6])\nax = plt.gca()\nax.spines['top'].set_visible(False)\nax.spines['right'].set_visible(False)\nax.tick_params(axis='x', which='major', labelsize=19)\nax.tick_params(axis='y', which='major', labelsize=19)\nplt.xticks([-0.25, 0, 1, 1.25], ['-0.25', '0', '1', '1.25'])\nplt.yticks([-2,2])\nplt.tight_layout()\nplt.show()"
      ]
    },
    {
      "cell_type": "markdown",
      "metadata": {},
      "source": [
        "## Creating an example of a 2D function\nHere we consider sin(12x) - cos(14y) + 3xy, which is not periodic on [0,1]x[0,1]\n\n"
      ]
    },
    {
      "cell_type": "code",
      "execution_count": null,
      "metadata": {
        "collapsed": false
      },
      "outputs": [],
      "source": [
        "length_signal = 101   # length of the signal in each dimension\nadd_pts = 50          # number of points to add in each dimension\nbatch_size = 3        # the Fourier continuation layer can be applied to batches of signals\n\n\nx = torch.linspace(0, 1, length_signal).view(1, length_signal, 1).repeat(batch_size, 1, length_signal)\ny = torch.linspace(0, 1, length_signal).view(1, 1, length_signal).repeat(batch_size, length_signal, 1)\nf = torch.sin(12 * x)  - torch.cos(14 * y) + 3*x*y"
      ]
    },
    {
      "cell_type": "markdown",
      "metadata": {},
      "source": [
        "## Extending the signal\nWe use the FC-Legendre and FC-Gram Fourier continuation layers to extend the signal.\n\n"
      ]
    },
    {
      "cell_type": "code",
      "execution_count": null,
      "metadata": {
        "collapsed": false
      },
      "outputs": [],
      "source": [
        "Extension_Legendre = FCLegendre(d=3, n_additional_pts=add_pts)\nf_extend_Legendre = Extension_Legendre(f, dim=2)\n\nExtension_Gram = FCGram(d=3, n_additional_pts=add_pts)\nf_extend_Gram = Extension_Gram(f, dim=2)"
      ]
    },
    {
      "cell_type": "markdown",
      "metadata": {},
      "source": [
        "## Plot the FC-Legendre and FC-Gram results for 2D\nWe also add black lines to deliminate the original signal\n\n"
      ]
    },
    {
      "cell_type": "code",
      "execution_count": null,
      "metadata": {
        "collapsed": false
      },
      "outputs": [],
      "source": [
        "fig, axs = plt.subplots(figsize=(15,5), nrows=1, ncols=3)\naxs[0].imshow(f[0])\naxs[0].set_title(r\"Original Function\", fontsize=15.5)\naxs[1].imshow(f_extend_Legendre[0])\naxs[1].plot([add_pts//2, length_signal + add_pts//2], [add_pts//2, add_pts//2], '-', color='k', lw=3)\naxs[1].plot([add_pts//2, add_pts//2], [add_pts//2, length_signal + add_pts//2], '-', color='k', lw=3)\naxs[1].plot([add_pts//2, length_signal + add_pts//2], [length_signal + add_pts//2, length_signal + add_pts//2], '-', color='k', lw=3)\naxs[1].plot([length_signal + add_pts//2, length_signal + add_pts//2], [add_pts//2, length_signal + add_pts//2], '-', color='k', lw=3)\naxs[1].set_title(r\"FC-Legendre Extension\", fontsize=15.5)\naxs[2].imshow(f_extend_Gram[0])\naxs[2].plot([add_pts//2, length_signal + add_pts//2], [add_pts//2, add_pts//2], '-', color='k', lw=3)\naxs[2].plot([add_pts//2, add_pts//2], [add_pts//2, length_signal + add_pts//2], '-', color='k', lw=3)\naxs[2].plot([add_pts//2, length_signal + add_pts//2], [length_signal + add_pts//2, length_signal + add_pts//2], '-', color='k', lw=3)\naxs[2].plot([length_signal + add_pts//2, length_signal + add_pts//2], [add_pts//2, length_signal + add_pts//2], '-', color='k', lw=3)\naxs[2].set_title(r\"FC-Gram Extension\", fontsize=15.5)\nfor ax in axs.flat:\n        ax.set_xticks([])\n        ax.set_yticks([])\nplt.subplots_adjust(wspace=0.05)  # Reduce white space between plots\nplt.show()"
      ]
    },
    {
      "cell_type": "markdown",
      "metadata": {},
      "source": [
        "## Creating an example of a 3D function\nHere we consider f(x,y,z) = exp(-2z) + 2xz + sin(12xy) + y sin(10yz) \nwhich is not periodic on [0,1]x[0,1]x[0,1]\n\n"
      ]
    },
    {
      "cell_type": "code",
      "execution_count": null,
      "metadata": {
        "collapsed": false
      },
      "outputs": [],
      "source": [
        "batch_size = 2\nlength_signal = 101\nadd_pts = 50\n\n# Create 3D grid\nx = torch.linspace(0, 1, length_signal).view(1, length_signal, 1, 1).repeat(batch_size, 1, length_signal, length_signal)\ny = torch.linspace(0, 1, length_signal).view(1, 1, length_signal, 1).repeat(batch_size, length_signal, 1, length_signal)\nz = torch.linspace(0, 1, length_signal).view(1, 1, 1, length_signal).repeat(batch_size, length_signal, length_signal, 1)\n\n# Create 3D function\nf = torch.exp(-2*z) + 2*z*x + torch.sin(12*x*y) + y*torch.sin(10*y*z)"
      ]
    },
    {
      "cell_type": "markdown",
      "metadata": {},
      "source": [
        "## Extending the signal\nWe use the FC-Legendre and FC-Gram Fourier continuation layers to extend the signal.\n\n"
      ]
    },
    {
      "cell_type": "code",
      "execution_count": null,
      "metadata": {
        "collapsed": false
      },
      "outputs": [],
      "source": [
        "Extension_Legendre = FCLegendre(d=3, n_additional_pts=add_pts)\nf_extend_Legendre = Extension_Legendre(f, dim=3)\n\nExtension_Gram = FCGram(d=3, n_additional_pts=add_pts)\nf_extend_Gram = Extension_Gram(f, dim=3)"
      ]
    },
    {
      "cell_type": "markdown",
      "metadata": {},
      "source": [
        "## Plot the FC-Legendre and FC-Gram results for 3D\nWe also add white lines to deliminate the original signal\n\n"
      ]
    },
    {
      "cell_type": "code",
      "execution_count": null,
      "metadata": {
        "collapsed": false
      },
      "outputs": [],
      "source": [
        "f_min = f.min().item()\nf_max = f.max().item()\nf_ext_legendre_min = f_extend_Legendre.min().item()\nf_ext_legendre_max = f_extend_Legendre.max().item()\nf_ext_gram_min = f_extend_Gram.min().item()\nf_ext_gram_max = f_extend_Gram.max().item()\nglobal_min = min(f_min, f_ext_legendre_min, f_ext_gram_min)\nglobal_max = max(f_max, f_ext_legendre_max, f_ext_gram_max)"
      ]
    },
    {
      "cell_type": "markdown",
      "metadata": {},
      "source": [
        "Figure for X slices\n\n"
      ]
    },
    {
      "cell_type": "code",
      "execution_count": null,
      "metadata": {
        "collapsed": false
      },
      "outputs": [],
      "source": [
        "fig = plt.figure(figsize=(24, 20))\nslice_indices = [length_signal//4, length_signal//2, 3*length_signal//4]\nslice_names = ['First Quarter', 'Middle', 'Third Quarter']\n\nfor i, (idx, name) in enumerate(zip(slice_indices, slice_names)):\n    # Original function - X-slice\n    ax = fig.add_subplot(3, 3, i+1)\n    im = ax.imshow(f[0, idx, :, :].numpy(), cmap='viridis', aspect='auto', vmin=global_min, vmax=global_max)\n    ax.set_title(f'Original: X-slice {name}', fontsize=22, fontweight='bold')\n    ax.set_xlabel('Y', fontsize=20)\n    ax.set_ylabel('Z', fontsize=20)\n    ax.set_xticks([])\n    ax.set_yticks([])\n    cbar = plt.colorbar(im, ax=ax)\n    cbar.ax.tick_params(labelsize=18)\n    \n    # FC-Legendre extension - X-slice\n    ax = fig.add_subplot(3, 3, i+4)\n    ext_idx = idx + add_pts//2\n    im = ax.imshow(f_extend_Legendre[0, ext_idx, :, :].numpy(), cmap='viridis', aspect='auto', vmin=global_min, vmax=global_max)\n    ax.set_title(f'FC-Legendre: X-slice {name}', fontsize=22, fontweight='bold')\n    ax.set_xlabel('Y', fontsize=20)\n    ax.set_ylabel('Z', fontsize=20)\n    # Draw boundary lines\n    ax.axhline(y=add_pts//2, color='white', linewidth=2, linestyle='-')\n    ax.axhline(y=length_signal + add_pts//2, color='white', linewidth=2, linestyle='-')\n    ax.axvline(x=add_pts//2, color='white', linewidth=2, linestyle='-')\n    ax.axvline(x=length_signal + add_pts//2, color='white', linewidth=2, linestyle='-')\n    ax.set_xticks([])\n    ax.set_yticks([])\n    cbar = plt.colorbar(im, ax=ax)\n    cbar.ax.tick_params(labelsize=18)\n    \n    # FC-Gram extension - X-slice\n    ax = fig.add_subplot(3, 3, i+7)\n    im = ax.imshow(f_extend_Gram[0, ext_idx, :, :].numpy(), cmap='viridis', aspect='auto', vmin=global_min, vmax=global_max)\n    ax.set_title(f'FC-Gram: X-slice {name}', fontsize=22, fontweight='bold')\n    ax.set_xlabel('Y', fontsize=20)\n    ax.set_ylabel('Z', fontsize=20)\n    # Draw boundary lines\n    ax.axhline(y=add_pts//2, color='white', linewidth=2, linestyle='-')\n    ax.axhline(y=length_signal + add_pts//2, color='white', linewidth=2, linestyle='-')\n    ax.axvline(x=add_pts//2, color='white', linewidth=2, linestyle='-')\n    ax.axvline(x=length_signal + add_pts//2, color='white', linewidth=2, linestyle='-')\n    ax.set_xticks([])\n    ax.set_yticks([])\n    cbar = plt.colorbar(im, ax=ax)\n    cbar.ax.tick_params(labelsize=18)\n\nplt.subplots_adjust(hspace=0.15, wspace=0.05, top=0.95)\nplt.show()"
      ]
    },
    {
      "cell_type": "markdown",
      "metadata": {},
      "source": [
        "Figure for Y-slices\n\n"
      ]
    },
    {
      "cell_type": "code",
      "execution_count": null,
      "metadata": {
        "collapsed": false
      },
      "outputs": [],
      "source": [
        "fig2 = plt.figure(figsize=(24, 20))\n\nfor i, (idx, name) in enumerate(zip(slice_indices, slice_names)):\n    # Original function - Y-slice\n    ax = fig2.add_subplot(3, 3, i+1)\n    im = ax.imshow(f[0, :, idx, :].numpy(), cmap='viridis', aspect='auto', vmin=global_min, vmax=global_max)\n    ax.set_title(f'Original: Y-slice {name}', fontsize=22, fontweight='bold')\n    ax.set_xlabel('X', fontsize=20)\n    ax.set_ylabel('Z', fontsize=20)\n    ax.set_xticks([])\n    ax.set_yticks([])\n    cbar = plt.colorbar(im, ax=ax)\n    cbar.ax.tick_params(labelsize=18)\n    \n    # FC-Legendre extension - Y-slice\n    ax = fig2.add_subplot(3, 3, i+4)\n    ext_idx = idx + add_pts//2\n    im = ax.imshow(f_extend_Legendre[0, :, ext_idx, :].numpy(), cmap='viridis', aspect='auto', vmin=global_min, vmax=global_max)\n    ax.set_title(f'FC-Legendre: Y-slice {name}', fontsize=22, fontweight='bold')\n    ax.set_xlabel('X', fontsize=20)\n    ax.set_ylabel('Z', fontsize=20)\n    # Draw boundary lines\n    ax.axhline(y=add_pts//2, color='white', linewidth=2, linestyle='-')\n    ax.axhline(y=length_signal + add_pts//2, color='white', linewidth=2, linestyle='-')\n    ax.axvline(x=add_pts//2, color='white', linewidth=2, linestyle='-')\n    ax.axvline(x=length_signal + add_pts//2, color='white', linewidth=2, linestyle='-')\n    ax.set_xticks([])\n    ax.set_yticks([])\n    cbar = plt.colorbar(im, ax=ax)\n    cbar.ax.tick_params(labelsize=18)\n    \n    # FC-Gram extension - Y-slice\n    ax = fig2.add_subplot(3, 3, i+7)\n    im = ax.imshow(f_extend_Gram[0, :, ext_idx, :].numpy(), cmap='viridis', aspect='auto', vmin=global_min, vmax=global_max)\n    ax.set_title(f'FC-Gram: Y-slice {name}', fontsize=22, fontweight='bold')\n    ax.set_xlabel('X', fontsize=20)\n    ax.set_ylabel('Z', fontsize=20)\n    # Draw boundary lines\n    ax.axhline(y=add_pts//2, color='white', linewidth=2, linestyle='-')\n    ax.axhline(y=length_signal + add_pts//2, color='white', linewidth=2, linestyle='-')\n    ax.axvline(x=add_pts//2, color='white', linewidth=2, linestyle='-')\n    ax.axvline(x=length_signal + add_pts//2, color='white', linewidth=2, linestyle='-')\n    ax.set_xticks([])\n    ax.set_yticks([])\n    cbar = plt.colorbar(im, ax=ax)\n    cbar.ax.tick_params(labelsize=18)\n\nplt.subplots_adjust(hspace=0.15, wspace=0.05, top=0.95)\nplt.show()"
      ]
    },
    {
      "cell_type": "markdown",
      "metadata": {},
      "source": [
        "Figure for Z-slices\n\n"
      ]
    },
    {
      "cell_type": "code",
      "execution_count": null,
      "metadata": {
        "collapsed": false
      },
      "outputs": [],
      "source": [
        "fig3 = plt.figure(figsize=(24, 20))\n\nfor i, (idx, name) in enumerate(zip(slice_indices, slice_names)):\n    # Original function - Z-slice\n    ax = fig3.add_subplot(3, 3, i+1)\n    im = ax.imshow(f[0, :, :, idx].numpy(), cmap='viridis', aspect='auto', vmin=global_min, vmax=global_max)\n    ax.set_title(f'Original: Z-slice {name}', fontsize=22, fontweight='bold')\n    ax.set_xlabel('X', fontsize=20)\n    ax.set_ylabel('Y', fontsize=20)\n    ax.set_xticks([])\n    ax.set_yticks([])\n    cbar = plt.colorbar(im, ax=ax)\n    cbar.ax.tick_params(labelsize=18)\n    \n    # FC-Legendre extension - Z-slice\n    ax = fig3.add_subplot(3, 3, i+4)\n    ext_idx = idx + add_pts//2\n    im = ax.imshow(f_extend_Legendre[0, :, :, ext_idx].numpy(), cmap='viridis', aspect='auto', vmin=global_min, vmax=global_max)\n    ax.set_title(f'FC-Legendre: Z-slice {name}', fontsize=22, fontweight='bold')\n    ax.set_xlabel('X', fontsize=20)\n    ax.set_ylabel('Y', fontsize=20)\n    # Draw boundary lines\n    ax.axhline(y=add_pts//2, color='white', linewidth=2, linestyle='-')\n    ax.axhline(y=length_signal + add_pts//2, color='white', linewidth=2, linestyle='-')\n    ax.axvline(x=add_pts//2, color='white', linewidth=2, linestyle='-')\n    ax.axvline(x=length_signal + add_pts//2, color='white', linewidth=2, linestyle='-')\n    ax.set_xticks([])\n    ax.set_yticks([])\n    cbar = plt.colorbar(im, ax=ax)\n    cbar.ax.tick_params(labelsize=18)\n    \n    # FC-Gram extension - Z-slice\n    ax = fig3.add_subplot(3, 3, i+7)\n    im = ax.imshow(f_extend_Gram[0, :, :, ext_idx].numpy(), cmap='viridis', aspect='auto', vmin=global_min, vmax=global_max)\n    ax.set_title(f'FC-Gram: Z-slice {name}', fontsize=22, fontweight='bold')\n    ax.set_xlabel('X', fontsize=20)\n    ax.set_ylabel('Y', fontsize=20)\n    # Draw boundary lines\n    ax.axhline(y=add_pts//2, color='white', linewidth=2, linestyle='-')\n    ax.axhline(y=length_signal + add_pts//2, color='white', linewidth=2, linestyle='-')\n    ax.axvline(x=add_pts//2, color='white', linewidth=2, linestyle='-')\n    ax.axvline(x=length_signal + add_pts//2, color='white', linewidth=2, linestyle='-')\n    ax.set_xticks([])\n    ax.set_yticks([])\n    cbar = plt.colorbar(im, ax=ax)\n    cbar.ax.tick_params(labelsize=18)\n\nplt.subplots_adjust(hspace=0.15, wspace=0.05, top=0.95)\nplt.show()"
      ]
    }
  ],
  "metadata": {
    "kernelspec": {
      "display_name": "Python 3",
      "language": "python",
      "name": "python3"
    },
    "language_info": {
      "codemirror_mode": {
        "name": "ipython",
        "version": 3
      },
      "file_extension": ".py",
      "mimetype": "text/x-python",
      "name": "python",
      "nbconvert_exporter": "python",
      "pygments_lexer": "ipython3",
      "version": "3.13.7"
    }
  },
  "nbformat": 4,
  "nbformat_minor": 0
}