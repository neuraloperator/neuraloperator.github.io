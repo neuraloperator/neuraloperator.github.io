{
  "cells": [
    {
      "cell_type": "markdown",
      "metadata": {},
      "source": [
        "\n\n# Fourier Continuation\nAn example of usage of our Fourier continuation layer on 1d, 2d, and 3d data.\n"
      ]
    },
    {
      "cell_type": "markdown",
      "metadata": {},
      "source": [
        "## Import the library\nWe first import our `neuralop` library and required dependencies.\n\n"
      ]
    },
    {
      "cell_type": "code",
      "execution_count": null,
      "metadata": {
        "collapsed": false
      },
      "outputs": [],
      "source": [
        "import torch\nimport matplotlib.pyplot as plt\nfrom matplotlib.lines import Line2D\nfrom mpl_toolkits.mplot3d import Axes3D\nfrom neuralop.layers.fourier_continuation import FCLegendre,  FCGram\n\n\ndevice = torch.device(\"cuda\" if torch.cuda.is_available() else \"cpu\")"
      ]
    },
    {
      "cell_type": "markdown",
      "metadata": {},
      "source": [
        "## Creating an example of 1D curve\nHere we consider sin(16x) - cos(8x), which is not periodic on the interval [0,1]\n\n"
      ]
    },
    {
      "cell_type": "code",
      "execution_count": null,
      "metadata": {
        "collapsed": false
      },
      "outputs": [],
      "source": [
        "length_signal = 101   # length of the original 1D signal\nadd_pts = 50          # number of points to add\nbatch_size = 3        # the Fourier continuation layer can be applied to batches of signals\n\nx = torch.linspace(0, 1, length_signal).repeat(batch_size,1)\nf = torch.sin(16 * x) - torch.cos(8 * x)"
      ]
    },
    {
      "cell_type": "markdown",
      "metadata": {},
      "source": [
        "## Extending the signal\nWe use the FC-Legendre and FC-Gram Fourier continuation layers to extend the signal. \nWe try both extending the signal on one side (right) and on both sides (left and right)\n\n"
      ]
    },
    {
      "cell_type": "code",
      "execution_count": null,
      "metadata": {
        "collapsed": false
      },
      "outputs": [],
      "source": [
        "Extension_Legendre = FCLegendre(d=2, n_additional_pts=add_pts)\nf_extend_one_side_Legendre = Extension_Legendre(f, dim=1, one_sided=True)\nf_extend_both_sides_Legendre = Extension_Legendre(f, dim=1, one_sided=False)\n\nExtension_Gram = FCGram(d=3, n_additional_pts=add_pts)\nf_extend_one_side_Gram = Extension_Gram(f, dim=1, one_sided=True)\nf_extend_both_sides_Gram = Extension_Gram(f, dim=1, one_sided=False)"
      ]
    },
    {
      "cell_type": "markdown",
      "metadata": {},
      "source": [
        "## Plot the FC-Legendre results\n\n"
      ]
    },
    {
      "cell_type": "code",
      "execution_count": null,
      "metadata": {
        "collapsed": false
      },
      "outputs": [],
      "source": [
        "# Define the extended coordinates\nx_extended_one_side = torch.linspace(0, 1.5, 151) \nx_extended_both_sides = torch.linspace(-0.25, 1.25, 151) \n\n# Add 0.6 and -0.6 to the extended functions for visualization purposes\nf_extend_one_side_Legendre = f_extend_one_side_Legendre + 0.6\nf_extend_both_sides_Legendre = f_extend_both_sides_Legendre - 0.6\n\nplt.figure(figsize=(14, 5))\nplt.plot(x[0], f[0], 'k', label='Original Function', lw=2.2)\nplt.plot(x_extended_one_side, f_extend_one_side_Legendre[0] , 'b',label='One-sided Extension', lw=2.2)\nplt.plot(x_extended_both_sides, f_extend_both_sides_Legendre[0] , 'g', label='Two-sided Extension', lw=2.2)\nplt.plot([0, 0], [-2.7, 1.8], '-', color='gray', lw=1.5)  \nplt.plot([1, 1], [-2.7, 1.8], '-', color='gray', lw=1.5)  \nplt.plot([0, 1.5], [f_extend_one_side_Legendre[0,0],f_extend_one_side_Legendre[0,0]], '--', color='b', lw=1.4)  \nplt.plot([-0.25, 1.25], [f_extend_both_sides_Legendre[0,0],f_extend_both_sides_Legendre[0,0]], '--', color='g', lw=1.4) \nlegend_elements = [\n        Line2D([0], [0], color='none', label='FC-Legendre'),\n        Line2D([0], [0], color='k', lw=2.2, label='Original Function'),\n        Line2D([0], [0], color='b', lw=2.2, label='One-sided Extension'),\n        Line2D([0], [0], color='g', lw=2.2, label='Two-sided Extension')\n]\nlegend = plt.legend(handles=legend_elements, fontsize=19)\nplt.xlim([-0.28, 1.56])\nplt.ylim([-3.05, 2.7])\nlegend.get_texts()[0].set_fontweight('bold')\nax = plt.gca()\nax.spines['top'].set_visible(False)\nax.spines['right'].set_visible(False)\nax.tick_params(axis='x', which='major', labelsize=19)\nax.tick_params(axis='y', which='major', labelsize=19)\nplt.xticks([-0.25,0,1,1.25, 1.5])\nplt.yticks([-2,2])\nplt.tight_layout()\nplt.show()"
      ]
    },
    {
      "cell_type": "markdown",
      "metadata": {},
      "source": [
        "## Plot the FC-Gram results\n\n"
      ]
    },
    {
      "cell_type": "code",
      "execution_count": null,
      "metadata": {
        "collapsed": false
      },
      "outputs": [],
      "source": [
        "# Define the extended coordinates\nx_extended_one_side = torch.linspace(0, 1.5, 151) \nx_extended_both_sides = torch.linspace(-0.25, 1.25, 151) \n\n# Add 0.6 and -0.6 to the extended functions for visualization purposes\nf_extend_one_side_Gram = f_extend_one_side_Gram + 0.6\nf_extend_both_sides_Gram = f_extend_both_sides_Gram - 0.6\n\nplt.figure(figsize=(14, 5))\nplt.plot(x[0], f[0], 'k', label='Original Function', lw=2.2)\nplt.plot(x_extended_one_side, f_extend_one_side_Gram[0] , 'b',label='One-sided Extension', lw=2.2)\nplt.plot(x_extended_both_sides, f_extend_both_sides_Gram[0] , 'g', label='Two-sided Extension', lw=2.2)\nplt.plot([0, 0], [-2.7, 1.8], '-', color='gray', lw=1.5)  \nplt.plot([1, 1], [-2.7, 1.8], '-', color='gray', lw=1.5)  \nplt.plot([0, 1.5], [f_extend_one_side_Gram[0,0],f_extend_one_side_Gram[0,0]], '--', color='b', lw=1.4)  \nplt.plot([-0.25, 1.25], [f_extend_both_sides_Gram[0,0],f_extend_both_sides_Gram[0,0]], '--', color='g', lw=1.4) \nlegend_elements = [\n        Line2D([0], [0], color='none', label='FC-Gram'),\n        Line2D([0], [0], color='k', lw=2.2, label='Original Function'),\n        Line2D([0], [0], color='b', lw=2.2, label='One-sided Extension'),\n        Line2D([0], [0], color='g', lw=2.2, label='Two-sided Extension')\n]\nlegend = plt.legend(handles=legend_elements, fontsize=19)\nplt.xlim([-0.28, 1.56])\nplt.ylim([-2.95, 3.1])\nlegend.get_texts()[0].set_fontweight('bold')\nax = plt.gca()\nax.spines['top'].set_visible(False)\nax.spines['right'].set_visible(False)\nax.tick_params(axis='x', which='major', labelsize=19)\nax.tick_params(axis='y', which='major', labelsize=19)\nplt.xticks([-0.25,0,1,1.25,1.5])\nplt.yticks([-2,2])\nplt.tight_layout()\nplt.show()"
      ]
    },
    {
      "cell_type": "markdown",
      "metadata": {},
      "source": [
        "## Creating an example of a 2D function\nHere we consider sin(12x) - cos(14y) + 3xy, which is not periodic on [0,1]x[0,1]\n\n"
      ]
    },
    {
      "cell_type": "code",
      "execution_count": null,
      "metadata": {
        "collapsed": false
      },
      "outputs": [],
      "source": [
        "length_signal = 101   # length of the signal in each dimension\nadd_pts = 50          # number of points to add in each dimension\nbatch_size = 3        # the Fourier continuation layer can be applied to batches of signals\n\n\nx = torch.linspace(0, 1, length_signal).view(1, length_signal, 1).repeat(batch_size, 1, length_signal)\ny = torch.linspace(0, 1, length_signal).view(1, 1, length_signal).repeat(batch_size, length_signal, 1)\nf = torch.sin(12 * x)  - torch.cos(14 * y) + 3*x*y"
      ]
    },
    {
      "cell_type": "markdown",
      "metadata": {},
      "source": [
        "## Extending the signal\nWe use the FC-Legendre and FC-Gram Fourier continuation layers to extend the signal.\nWe try both extending the signal on one side (right and bottom) and on both sides (left, right, top, and bottom)\n\n"
      ]
    },
    {
      "cell_type": "code",
      "execution_count": null,
      "metadata": {
        "collapsed": false
      },
      "outputs": [],
      "source": [
        "Extension_Legendre = FCLegendre(d=3, n_additional_pts=add_pts)\nf_extend_one_side_Legendre = Extension_Legendre(f, dim=2, one_sided=True)\nf_extend_both_sides_Legendre = Extension_Legendre(f, dim=2, one_sided=False)\n\nExtension_Gram = FCGram(d=3, n_additional_pts=add_pts)\nf_extend_one_side_Gram = Extension_Gram(f, dim=2, one_sided=True)\nf_extend_both_sides_Gram = Extension_Gram(f, dim=2, one_sided=False)"
      ]
    },
    {
      "cell_type": "markdown",
      "metadata": {},
      "source": [
        "## Plot the FC-Legendre results\nWe also add black lines to deliminate the original signal\n\n"
      ]
    },
    {
      "cell_type": "code",
      "execution_count": null,
      "metadata": {
        "collapsed": false
      },
      "outputs": [],
      "source": [
        "fig, axs = plt.subplots(figsize=(14,6), nrows=1, ncols=3)\naxs[0].imshow(f[0])\naxs[0].set_title(r\"Original Function\", fontsize=15.5)\naxs[1].imshow(f_extend_one_side_Legendre[0])\naxs[1].plot([length_signal, length_signal], [0, length_signal], '-', color='k', lw=3)\naxs[1].plot([0, length_signal], [length_signal, length_signal], '-', color='k', lw=3)\naxs[1].set_title(r\"FC-Legendre One-sided Extension\", fontsize=15.5)\naxs[2].set_title(r\"FC-Legendre Two-sided Extension\", fontsize=15.5)\naxs[2].imshow(f_extend_both_sides_Legendre[0])\naxs[2].plot([add_pts//2, length_signal + add_pts//2], [add_pts//2, add_pts//2], '-', color='k', lw=3)\naxs[2].plot([add_pts//2, add_pts//2], [add_pts//2, length_signal + add_pts//2], '-', color='k', lw=3)\naxs[2].plot([add_pts//2, length_signal + add_pts//2], [length_signal + add_pts//2, length_signal + add_pts//2], '-', color='k', lw=3)\naxs[2].plot([length_signal + add_pts//2, length_signal + add_pts//2], [add_pts//2, length_signal + add_pts//2], '-', color='k', lw=3)\nfor ax in axs.flat:\n        ax.set_xticks([])\n        ax.set_yticks([])\nplt.show()"
      ]
    },
    {
      "cell_type": "markdown",
      "metadata": {},
      "source": [
        "## Plot the FC-Gram results\nWe also add black lines to deliminate the original signal\n\n"
      ]
    },
    {
      "cell_type": "code",
      "execution_count": null,
      "metadata": {
        "collapsed": false
      },
      "outputs": [],
      "source": [
        "fig, axs = plt.subplots(figsize=(14,6), nrows=1, ncols=3)\naxs[0].imshow(f[0])\naxs[0].set_title(r\"Original Function\", fontsize=15.5)\naxs[1].imshow(f_extend_one_side_Gram[0])\naxs[1].plot([length_signal, length_signal], [0, length_signal], '-', color='k', lw=3)\naxs[1].plot([0, length_signal], [length_signal, length_signal], '-', color='k', lw=3)\naxs[1].set_title(r\"FC-Gram One-sided Extension\", fontsize=15.5)\naxs[2].set_title(r\"FC-Gram Two-sided Extension\", fontsize=15.5)\naxs[2].imshow(f_extend_both_sides_Gram[0])\naxs[2].plot([add_pts//2, length_signal + add_pts//2], [add_pts//2, add_pts//2], '-', color='k', lw=3)\naxs[2].plot([add_pts//2, add_pts//2], [add_pts//2, length_signal + add_pts//2], '-', color='k', lw=3)\naxs[2].plot([add_pts//2, length_signal + add_pts//2], [length_signal + add_pts//2, length_signal + add_pts//2], '-', color='k', lw=3)\naxs[2].plot([length_signal + add_pts//2, length_signal + add_pts//2], [add_pts//2, length_signal + add_pts//2], '-', color='k', lw=3)\nfor ax in axs.flat:\n        ax.set_xticks([])\n        ax.set_yticks([])\nplt.show()"
      ]
    },
    {
      "cell_type": "markdown",
      "metadata": {},
      "source": [
        "## Creating an example of a 3D function\nHere we consider f(x,y,z) = exp(-2z) + 2xz + sin(12xy) + y sin(10yz) \nwhich is not periodic on [0,1]x[0,1]x[0,1]\n\n"
      ]
    },
    {
      "cell_type": "code",
      "execution_count": null,
      "metadata": {
        "collapsed": false
      },
      "outputs": [],
      "source": [
        "batch_size = 2\nlength_signal = 101\nadd_pts = 50\n\n# Create 3D grid\nx = torch.linspace(0, 1, length_signal).view(1, length_signal, 1, 1).repeat(batch_size, 1, length_signal, length_signal)\ny = torch.linspace(0, 1, length_signal).view(1, 1, length_signal, 1).repeat(batch_size, length_signal, 1, length_signal)\nz = torch.linspace(0, 1, length_signal).view(1, 1, 1, length_signal).repeat(batch_size, length_signal, length_signal, 1)\n\n# Create 3D function\nf = torch.exp(-2*z) + 2*z*x + torch.sin(12*x*y) + y*torch.sin(10*y*z)"
      ]
    },
    {
      "cell_type": "markdown",
      "metadata": {},
      "source": [
        "## Extending the signal\nWe use the FC-Legendre and FC-Gram Fourier continuation layers to extend the signal.\nWe try both extending the signal on one side (right, bottom, back) and on both sides (left, right, top, bottom, back, front)\n\n"
      ]
    },
    {
      "cell_type": "code",
      "execution_count": null,
      "metadata": {
        "collapsed": false
      },
      "outputs": [],
      "source": [
        "Extension_Legendre = FCLegendre(d=3, n_additional_pts=add_pts)\nf_extend_one_side_Legendre = Extension_Legendre(f, dim=3, one_sided=True)\nf_extend_both_sides_Legendre = Extension_Legendre(f, dim=3, one_sided=False)\n\nExtension_Gram = FCGram(d=3, n_additional_pts=add_pts)\nf_extend_one_side_Gram = Extension_Gram(f, dim=3, one_sided=True)\nf_extend_both_sides_Gram = Extension_Gram(f, dim=3, one_sided=False)"
      ]
    },
    {
      "cell_type": "markdown",
      "metadata": {},
      "source": [
        "## Plot the FC-Legendre results\nWe also add white lines to deliminate the original signal\n\n"
      ]
    },
    {
      "cell_type": "code",
      "execution_count": null,
      "metadata": {
        "collapsed": false
      },
      "outputs": [],
      "source": [
        "f_min = f.min().item()\nf_max = f.max().item()\nf_ext1_min = f_extend_one_side_Legendre.min().item()\nf_ext1_max = f_extend_one_side_Legendre.max().item()\nf_ext2_min = f_extend_both_sides_Legendre.min().item()\nf_ext2_max = f_extend_both_sides_Legendre.max().item()\nglobal_min = min(f_min, f_ext1_min, f_ext2_min)\nglobal_max = max(f_max, f_ext1_max, f_ext2_max)"
      ]
    },
    {
      "cell_type": "markdown",
      "metadata": {},
      "source": [
        "Figure for X slices\n\n"
      ]
    },
    {
      "cell_type": "code",
      "execution_count": null,
      "metadata": {
        "collapsed": false
      },
      "outputs": [],
      "source": [
        "fig = plt.figure(figsize=(20, 15))\nfig.suptitle('FC-Legendre 3D Examples: X-Slices', fontsize=24, fontweight='bold', y=0.98)\nslice_indices = [length_signal//4, length_signal//2, 3*length_signal//4]\nslice_names = ['First Quarter', 'Middle', 'Third Quarter']\n\nfor i, (idx, name) in enumerate(zip(slice_indices, slice_names)):\n    ax = fig.add_subplot(3, 3, i+1)\n    im = ax.imshow(f[0, idx, :, :].numpy(), cmap='viridis', aspect='auto', vmin=global_min, vmax=global_max)\n    ax.set_title(f'Original: X-slice {name}', fontsize=22, fontweight='bold')\n    ax.set_xlabel('Y', fontsize=20)\n    ax.set_ylabel('Z', fontsize=20)\n    ax.set_xticks([])\n    ax.set_yticks([])\n    cbar = plt.colorbar(im, ax=ax)\n    cbar.ax.tick_params(labelsize=18)\n    \n    # One-sided extension - X-slice\n    ax = fig.add_subplot(3, 3, i+4)\n    im = ax.imshow(f_extend_one_side_Legendre[0, idx, :, :].numpy(), cmap='viridis', aspect='auto', vmin=global_min, vmax=global_max)\n    ax.set_title(f'One-sided: X-slice {name}', fontsize=22, fontweight='bold')\n    ax.set_xlabel('Y', fontsize=20)\n    ax.set_ylabel('Z', fontsize=20)\n    # Draw boundary lines\n    ax.axhline(y=length_signal, color='white', linewidth=2, linestyle='-')\n    ax.axvline(x=length_signal, color='white', linewidth=2, linestyle='-')\n    ax.set_xticks([])\n    ax.set_yticks([])\n    cbar = plt.colorbar(im, ax=ax)\n    cbar.ax.tick_params(labelsize=18)\n    \n    # Two-sided extension - X-slice\n    ax = fig.add_subplot(3, 3, i+7)\n    ext_idx = idx + add_pts//2\n    im = ax.imshow(f_extend_both_sides_Legendre[0, ext_idx, :, :].numpy(), cmap='viridis', aspect='auto', vmin=global_min, vmax=global_max)\n    ax.set_title(f'Two-sided: X-slice {name}', fontsize=22, fontweight='bold')\n    ax.set_xlabel('Y', fontsize=20)\n    ax.set_ylabel('Z', fontsize=20)\n    # Draw boundary lines\n    ax.axhline(y=add_pts//2, color='white', linewidth=2, linestyle='-')\n    ax.axhline(y=length_signal + add_pts//2, color='white', linewidth=2, linestyle='-')\n    ax.axvline(x=add_pts//2, color='white', linewidth=2, linestyle='-')\n    ax.axvline(x=length_signal + add_pts//2, color='white', linewidth=2, linestyle='-')\n    ax.set_xticks([])\n    ax.set_yticks([])\n    cbar = plt.colorbar(im, ax=ax)\n    cbar.ax.tick_params(labelsize=18)\n\nplt.subplots_adjust(hspace=0.3, wspace=0.2, top=0.92)\nplt.show()"
      ]
    },
    {
      "cell_type": "markdown",
      "metadata": {},
      "source": [
        "Figure for Y-slices\n\n"
      ]
    },
    {
      "cell_type": "code",
      "execution_count": null,
      "metadata": {
        "collapsed": false
      },
      "outputs": [],
      "source": [
        "fig2 = plt.figure(figsize=(20, 15))\nfig2.suptitle('FC-Legendre 3D Examples: Y-Slices', fontsize=24, fontweight='bold', y=0.98)\n\nfor i, (idx, name) in enumerate(zip(slice_indices, slice_names)):\n    # Original function - Y-slice\n    ax = fig2.add_subplot(3, 3, i+1)\n    im = ax.imshow(f[0, :, idx, :].numpy(), cmap='viridis', aspect='auto', vmin=global_min, vmax=global_max)\n    ax.set_title(f'Original: Y-slice {name}', fontsize=22, fontweight='bold')\n    ax.set_xlabel('X', fontsize=20)\n    ax.set_ylabel('Z', fontsize=20)\n    ax.set_xticks([])\n    ax.set_yticks([])\n    cbar = plt.colorbar(im, ax=ax)\n    cbar.ax.tick_params(labelsize=18)\n    \n    # One-sided extension - Y-slice\n    ax = fig2.add_subplot(3, 3, i+4)\n    im = ax.imshow(f_extend_one_side_Legendre[0, :, idx, :].numpy(), cmap='viridis', aspect='auto', vmin=global_min, vmax=global_max)\n    ax.set_title(f'One-sided: Y-slice {name}', fontsize=22, fontweight='bold')\n    ax.set_xlabel('X', fontsize=20)\n    ax.set_ylabel('Z', fontsize=20)\n    # Draw boundary lines\n    ax.axhline(y=length_signal, color='white', linewidth=2, linestyle='-')\n    ax.axvline(x=length_signal, color='white', linewidth=2, linestyle='-')\n    ax.set_xticks([])\n    ax.set_yticks([])\n    cbar = plt.colorbar(im, ax=ax)\n    cbar.ax.tick_params(labelsize=18)\n    \n    # Two-sided extension - Y-slice\n    ax = fig2.add_subplot(3, 3, i+7)\n    ext_idx = idx + add_pts//2\n    im = ax.imshow(f_extend_both_sides_Legendre[0, :, ext_idx, :].numpy(), cmap='viridis', aspect='auto', vmin=global_min, vmax=global_max)\n    ax.set_title(f'Two-sided: Y-slice {name}', fontsize=22, fontweight='bold')\n    ax.set_xlabel('X', fontsize=20)\n    ax.set_ylabel('Z', fontsize=20)\n    # Draw boundary lines\n    ax.axhline(y=add_pts//2, color='white', linewidth=2, linestyle='-')\n    ax.axhline(y=length_signal + add_pts//2, color='white', linewidth=2, linestyle='-')\n    ax.axvline(x=add_pts//2, color='white', linewidth=2, linestyle='-')\n    ax.axvline(x=length_signal + add_pts//2, color='white', linewidth=2, linestyle='-')\n    ax.set_xticks([])\n    ax.set_yticks([])\n    cbar = plt.colorbar(im, ax=ax)\n    cbar.ax.tick_params(labelsize=18)\n\nplt.subplots_adjust(hspace=0.3, wspace=0.2, top=0.92)\nplt.show()"
      ]
    },
    {
      "cell_type": "markdown",
      "metadata": {},
      "source": [
        "Figure for Z-slices\n\n"
      ]
    },
    {
      "cell_type": "code",
      "execution_count": null,
      "metadata": {
        "collapsed": false
      },
      "outputs": [],
      "source": [
        "fig3 = plt.figure(figsize=(20, 15))\nfig3.suptitle('FC-Legendre 3D Examples: Z-Slices', fontsize=24, fontweight='bold', y=0.98)\n\nfor i, (idx, name) in enumerate(zip(slice_indices, slice_names)):\n    # Original function - Z-slice\n    ax = fig3.add_subplot(3, 3, i+1)\n    im = ax.imshow(f[0, :, :, idx].numpy(), cmap='viridis', aspect='auto', vmin=global_min, vmax=global_max)\n    ax.set_title(f'Original: Z-slice {name}', fontsize=22, fontweight='bold')\n    ax.set_xlabel('X', fontsize=20)\n    ax.set_ylabel('Y', fontsize=20)\n    ax.set_xticks([])\n    ax.set_yticks([])\n    cbar = plt.colorbar(im, ax=ax)\n    cbar.ax.tick_params(labelsize=18)\n    \n    # One-sided extension - Z-slice\n    ax = fig3.add_subplot(3, 3, i+4)\n    im = ax.imshow(f_extend_one_side_Legendre[0, :, :, idx].numpy(), cmap='viridis', aspect='auto', vmin=global_min, vmax=global_max)\n    ax.set_title(f'One-sided: Z-slice {name}', fontsize=22, fontweight='bold')\n    ax.set_xlabel('X', fontsize=20)\n    ax.set_ylabel('Y', fontsize=20)\n    # Draw boundary lines\n    ax.axhline(y=length_signal, color='white', linewidth=2, linestyle='-')\n    ax.axvline(x=length_signal, color='white', linewidth=2, linestyle='-')\n    ax.set_xticks([])\n    ax.set_yticks([])\n    cbar = plt.colorbar(im, ax=ax)\n    cbar.ax.tick_params(labelsize=18)\n    \n    # Two-sided extension - Z-slice\n    ax = fig3.add_subplot(3, 3, i+7)\n    ext_idx = idx + add_pts//2\n    im = ax.imshow(f_extend_both_sides_Legendre[0, :, :, ext_idx].numpy(), cmap='viridis', aspect='auto', vmin=global_min, vmax=global_max)\n    ax.set_title(f'Two-sided: Z-slice {name}', fontsize=22, fontweight='bold')\n    ax.set_xlabel('X', fontsize=20)\n    ax.set_ylabel('Y', fontsize=20)\n    # Draw boundary lines\n    ax.axhline(y=add_pts//2, color='white', linewidth=2, linestyle='-')\n    ax.axhline(y=length_signal + add_pts//2, color='white', linewidth=2, linestyle='-')\n    ax.axvline(x=add_pts//2, color='white', linewidth=2, linestyle='-')\n    ax.axvline(x=length_signal + add_pts//2, color='white', linewidth=2, linestyle='-')\n    ax.set_xticks([])\n    ax.set_yticks([])\n    cbar = plt.colorbar(im, ax=ax)\n    cbar.ax.tick_params(labelsize=18)\n\nplt.subplots_adjust(hspace=0.3, wspace=0.2, top=0.92)\nplt.show()"
      ]
    },
    {
      "cell_type": "markdown",
      "metadata": {},
      "source": [
        "## Plot the FC-Gram results\nWe also add white lines to deliminate the original signal\n\n"
      ]
    },
    {
      "cell_type": "code",
      "execution_count": null,
      "metadata": {
        "collapsed": false
      },
      "outputs": [],
      "source": [
        "f_min = f.min().item()\nf_max = f.max().item()\nf_ext1_min = f_extend_one_side_Gram.min().item()\nf_ext1_max = f_extend_one_side_Gram.max().item()\nf_ext2_min = f_extend_both_sides_Gram.min().item()\nf_ext2_max = f_extend_both_sides_Gram.max().item()\n\nglobal_min = min(f_min, f_ext1_min, f_ext2_min)\nglobal_max = max(f_max, f_ext1_max, f_ext2_max)"
      ]
    },
    {
      "cell_type": "markdown",
      "metadata": {},
      "source": [
        "Figure for X slices\n\n"
      ]
    },
    {
      "cell_type": "code",
      "execution_count": null,
      "metadata": {
        "collapsed": false
      },
      "outputs": [],
      "source": [
        "fig = plt.figure(figsize=(20, 15))\nfig.suptitle('FC-Gram 3D Examples: X-Slices', fontsize=24, fontweight='bold', y=0.98)\nslice_indices = [length_signal//4, length_signal//2, 3*length_signal//4]\nslice_names = ['First Quarter', 'Middle', 'Third Quarter']\n\nfor i, (idx, name) in enumerate(zip(slice_indices, slice_names)):\n    ax = fig.add_subplot(3, 3, i+1)\n    im = ax.imshow(f[0, idx, :, :].numpy(), cmap='viridis', aspect='auto', vmin=global_min, vmax=global_max)\n    ax.set_title(f'Original: X-slice {name}', fontsize=22, fontweight='bold')\n    ax.set_xlabel('Y', fontsize=20)\n    ax.set_ylabel('Z', fontsize=20)\n    ax.set_xticks([])\n    ax.set_yticks([])\n    cbar = plt.colorbar(im, ax=ax)\n    cbar.ax.tick_params(labelsize=18)\n    \n    ax = fig.add_subplot(3, 3, i+4)\n    im = ax.imshow(f_extend_one_side_Gram[0, idx, :, :].numpy(), cmap='viridis', aspect='auto', vmin=global_min, vmax=global_max)\n    ax.set_title(f'One-sided: X-slice {name}', fontsize=22, fontweight='bold')\n    ax.set_xlabel('Y', fontsize=20)\n    ax.set_ylabel('Z', fontsize=20)\n    # Draw boundary lines\n    ax.axhline(y=length_signal, color='white', linewidth=2, linestyle='-')\n    ax.axvline(x=length_signal, color='white', linewidth=2, linestyle='-')\n    ax.set_xticks([])\n    ax.set_yticks([])\n    cbar = plt.colorbar(im, ax=ax)\n    cbar.ax.tick_params(labelsize=18)\n    \n    ax = fig.add_subplot(3, 3, i+7)\n    ext_idx = idx + add_pts//2\n    im = ax.imshow(f_extend_both_sides_Gram[0, ext_idx, :, :].numpy(), cmap='viridis', aspect='auto', vmin=global_min, vmax=global_max)\n    ax.set_title(f'Two-sided: X-slice {name}', fontsize=22, fontweight='bold')\n    ax.set_xlabel('Y', fontsize=20)\n    ax.set_ylabel('Z', fontsize=20)\n    # Draw boundary lines\n    ax.axhline(y=add_pts//2, color='white', linewidth=2, linestyle='-')\n    ax.axhline(y=length_signal + add_pts//2, color='white', linewidth=2, linestyle='-')\n    ax.axvline(x=add_pts//2, color='white', linewidth=2, linestyle='-')\n    ax.axvline(x=length_signal + add_pts//2, color='white', linewidth=2, linestyle='-')\n    ax.set_xticks([])\n    ax.set_yticks([])\n    cbar = plt.colorbar(im, ax=ax)\n    cbar.ax.tick_params(labelsize=18)\n\nplt.subplots_adjust(hspace=0.3, wspace=0.2, top=0.92)\nplt.show()"
      ]
    },
    {
      "cell_type": "markdown",
      "metadata": {},
      "source": [
        "Figure for Y-slices\n\n"
      ]
    },
    {
      "cell_type": "code",
      "execution_count": null,
      "metadata": {
        "collapsed": false
      },
      "outputs": [],
      "source": [
        "fig2 = plt.figure(figsize=(20, 15))\nfig2.suptitle('FC-Gram 3D Examples: Y-Slices', fontsize=24, fontweight='bold', y=0.98)\n\nfor i, (idx, name) in enumerate(zip(slice_indices, slice_names)):\n    ax = fig2.add_subplot(3, 3, i+1)\n    im = ax.imshow(f[0, :, idx, :].numpy(), cmap='viridis', aspect='auto', vmin=global_min, vmax=global_max)\n    ax.set_title(f'Original: Y-slice {name}', fontsize=22, fontweight='bold')\n    ax.set_xlabel('X', fontsize=20)\n    ax.set_ylabel('Z', fontsize=20)\n    ax.set_xticks([])\n    ax.set_yticks([])\n    cbar = plt.colorbar(im, ax=ax)\n    cbar.ax.tick_params(labelsize=18)\n    \n    ax = fig2.add_subplot(3, 3, i+4)\n    im = ax.imshow(f_extend_one_side_Gram[0, :, idx, :].numpy(), cmap='viridis', aspect='auto', vmin=global_min, vmax=global_max)\n    ax.set_title(f'One-sided: Y-slice {name}', fontsize=22, fontweight='bold')\n    ax.set_xlabel('X', fontsize=20)\n    ax.set_ylabel('Z', fontsize=20)\n    # Draw boundary lines\n    ax.axhline(y=length_signal, color='white', linewidth=2, linestyle='-')\n    ax.axvline(x=length_signal, color='white', linewidth=2, linestyle='-')\n    ax.set_xticks([])\n    ax.set_yticks([])\n    cbar = plt.colorbar(im, ax=ax)\n    cbar.ax.tick_params(labelsize=18)\n    \n    ax = fig2.add_subplot(3, 3, i+7)\n    ext_idx = idx + add_pts//2\n    im = ax.imshow(f_extend_both_sides_Gram[0, :, ext_idx, :].numpy(), cmap='viridis', aspect='auto', vmin=global_min, vmax=global_max)\n    ax.set_title(f'Two-sided: Y-slice {name}', fontsize=22, fontweight='bold')\n    ax.set_xlabel('X', fontsize=20)\n    ax.set_ylabel('Z', fontsize=20)\n    # Draw boundary lines\n    ax.axhline(y=add_pts//2, color='white', linewidth=2, linestyle='-')\n    ax.axhline(y=length_signal + add_pts//2, color='white', linewidth=2, linestyle='-')\n    ax.axvline(x=add_pts//2, color='white', linewidth=2, linestyle='-')\n    ax.axvline(x=length_signal + add_pts//2, color='white', linewidth=2, linestyle='-')\n    ax.set_xticks([])\n    ax.set_yticks([])\n    cbar = plt.colorbar(im, ax=ax)\n    cbar.ax.tick_params(labelsize=18)\n\nplt.subplots_adjust(hspace=0.3, wspace=0.2, top=0.92)\nplt.show()"
      ]
    },
    {
      "cell_type": "markdown",
      "metadata": {},
      "source": [
        "Figure for Z-slices\n\n"
      ]
    },
    {
      "cell_type": "code",
      "execution_count": null,
      "metadata": {
        "collapsed": false
      },
      "outputs": [],
      "source": [
        "fig3 = plt.figure(figsize=(20, 15))\nfig3.suptitle('FC-Gram 3D Examples: Z-Slices', fontsize=24, fontweight='bold', y=0.98)\n\nfor i, (idx, name) in enumerate(zip(slice_indices, slice_names)):\n    ax = fig3.add_subplot(3, 3, i+1)\n    im = ax.imshow(f[0, :, :, idx].numpy(), cmap='viridis', aspect='auto', vmin=global_min, vmax=global_max)\n    ax.set_title(f'Original: Z-slice {name}', fontsize=22, fontweight='bold')\n    ax.set_xlabel('X', fontsize=20)\n    ax.set_ylabel('Y', fontsize=20)\n    ax.set_xticks([])\n    ax.set_yticks([])\n    cbar = plt.colorbar(im, ax=ax)\n    cbar.ax.tick_params(labelsize=18)\n    \n    ax = fig3.add_subplot(3, 3, i+4)\n    im = ax.imshow(f_extend_one_side_Gram[0, :, :, idx].numpy(), cmap='viridis', aspect='auto', vmin=global_min, vmax=global_max)\n    ax.set_title(f'One-sided: Z-slice {name}', fontsize=22, fontweight='bold')\n    ax.set_xlabel('X', fontsize=20)\n    ax.set_ylabel('Y', fontsize=20)\n    # Draw boundary lines\n    ax.axhline(y=length_signal, color='white', linewidth=2, linestyle='-')\n    ax.axvline(x=length_signal, color='white', linewidth=2, linestyle='-')\n    ax.set_xticks([])\n    ax.set_yticks([])\n    cbar = plt.colorbar(im, ax=ax)\n    cbar.ax.tick_params(labelsize=18)\n    \n    ax = fig3.add_subplot(3, 3, i+7)\n    ext_idx = idx + add_pts//2\n    im = ax.imshow(f_extend_both_sides_Gram[0, :, :, ext_idx].numpy(), cmap='viridis', aspect='auto', vmin=global_min, vmax=global_max)\n    ax.set_title(f'Two-sided: Z-slice {name}', fontsize=22, fontweight='bold')\n    ax.set_xlabel('X', fontsize=20)\n    ax.set_ylabel('Y', fontsize=20)\n    # Draw boundary lines\n    ax.axhline(y=add_pts//2, color='white', linewidth=2, linestyle='-')\n    ax.axhline(y=length_signal + add_pts//2, color='white', linewidth=2, linestyle='-')\n    ax.axvline(x=add_pts//2, color='white', linewidth=2, linestyle='-')\n    ax.axvline(x=length_signal + add_pts//2, color='white', linewidth=2, linestyle='-')\n    ax.set_xticks([])\n    ax.set_yticks([])\n    cbar = plt.colorbar(im, ax=ax)\n    cbar.ax.tick_params(labelsize=18)\n\nplt.subplots_adjust(hspace=0.3, wspace=0.2, top=0.92)\nplt.show()"
      ]
    }
  ],
  "metadata": {
    "kernelspec": {
      "display_name": "Python 3",
      "language": "python",
      "name": "python3"
    },
    "language_info": {
      "codemirror_mode": {
        "name": "ipython",
        "version": 3
      },
      "file_extension": ".py",
      "mimetype": "text/x-python",
      "name": "python",
      "nbconvert_exporter": "python",
      "pygments_lexer": "ipython3",
      "version": "3.13.6"
    }
  },
  "nbformat": 4,
  "nbformat_minor": 0
}