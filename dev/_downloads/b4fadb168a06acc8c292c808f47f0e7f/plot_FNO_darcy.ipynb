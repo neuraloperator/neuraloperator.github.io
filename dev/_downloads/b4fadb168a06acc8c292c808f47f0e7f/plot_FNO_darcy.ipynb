{
  "cells": [
    {
      "cell_type": "markdown",
      "metadata": {},
      "source": [
        "\n# Training an FNO on Darcy-Flow\n\nWe train a Fourier Neural Operator on our small [Darcy-Flow example](../auto_examples/plot_darcy_flow.html) .\n\nNote that this dataset is much smaller than one we would use in practice. The small Darcy-flow is an example built to\nbe trained on a CPU in a few seconds, whereas normally we would train on one or multiple GPUs. \n"
      ]
    },
    {
      "cell_type": "code",
      "execution_count": null,
      "metadata": {
        "collapsed": false
      },
      "outputs": [],
      "source": [
        "import torch\nimport matplotlib.pyplot as plt\nimport sys\nfrom neuralop.models import FNO\nfrom neuralop import Trainer\nfrom neuralop.training import AdamW\nfrom neuralop.data.datasets import load_darcy_flow_small\nfrom neuralop.utils import count_model_params\nfrom neuralop import LpLoss, H1Loss\n\ndevice = 'cpu'"
      ]
    },
    {
      "cell_type": "markdown",
      "metadata": {},
      "source": [
        "Let's load the small Darcy-flow dataset. \n\n"
      ]
    },
    {
      "cell_type": "code",
      "execution_count": null,
      "metadata": {
        "collapsed": false
      },
      "outputs": [],
      "source": [
        "train_loader, test_loaders, data_processor = load_darcy_flow_small(\n        n_train=1000, batch_size=32, \n        test_resolutions=[16, 32], n_tests=[100, 50],\n        test_batch_sizes=[32, 32],\n)\ndata_processor = data_processor.to(device)"
      ]
    },
    {
      "cell_type": "markdown",
      "metadata": {},
      "source": [
        "We create a simple FNO model\n\n"
      ]
    },
    {
      "cell_type": "code",
      "execution_count": null,
      "metadata": {
        "collapsed": false
      },
      "outputs": [],
      "source": [
        "model = FNO(n_modes=(16, 16),\n             in_channels=1, \n             out_channels=1,\n             hidden_channels=32, \n             projection_channel_ratio=2)\nmodel = model.to(device)\n\nn_params = count_model_params(model)\nprint(f'\\nOur model has {n_params} parameters.')\nsys.stdout.flush()"
      ]
    },
    {
      "cell_type": "markdown",
      "metadata": {},
      "source": [
        "## Training setup\n\n"
      ]
    },
    {
      "cell_type": "markdown",
      "metadata": {},
      "source": [
        "Create the optimizer\n\n"
      ]
    },
    {
      "cell_type": "code",
      "execution_count": null,
      "metadata": {
        "collapsed": false
      },
      "outputs": [],
      "source": [
        "optimizer = AdamW(model.parameters(), \n                                lr=8e-3, \n                                weight_decay=1e-4)\nscheduler = torch.optim.lr_scheduler.CosineAnnealingLR(optimizer, T_max=30)"
      ]
    },
    {
      "cell_type": "markdown",
      "metadata": {},
      "source": [
        "Then create the losses\n\n"
      ]
    },
    {
      "cell_type": "code",
      "execution_count": null,
      "metadata": {
        "collapsed": false
      },
      "outputs": [],
      "source": [
        "l2loss = LpLoss(d=2, p=2)\nh1loss = H1Loss(d=2)\n\ntrain_loss = h1loss\neval_losses={'h1': h1loss, 'l2': l2loss}"
      ]
    },
    {
      "cell_type": "markdown",
      "metadata": {},
      "source": [
        "## Training the model\n\n"
      ]
    },
    {
      "cell_type": "code",
      "execution_count": null,
      "metadata": {
        "collapsed": false
      },
      "outputs": [],
      "source": [
        "print('\\n### MODEL ###\\n', model)\nprint('\\n### OPTIMIZER ###\\n', optimizer)\nprint('\\n### SCHEDULER ###\\n', scheduler)\nprint('\\n### LOSSES ###')\nprint(f'\\n * Train: {train_loss}')\nprint(f'\\n * Test: {eval_losses}')\nsys.stdout.flush()"
      ]
    },
    {
      "cell_type": "markdown",
      "metadata": {},
      "source": [
        "Create the trainer:\n\n"
      ]
    },
    {
      "cell_type": "code",
      "execution_count": null,
      "metadata": {
        "collapsed": false
      },
      "outputs": [],
      "source": [
        "trainer = Trainer(model=model, n_epochs=20,\n                  device=device,\n                  data_processor=data_processor,\n                  wandb_log=False,\n                  eval_interval=3,\n                  use_distributed=False,\n                  verbose=True)"
      ]
    },
    {
      "cell_type": "markdown",
      "metadata": {},
      "source": [
        "Then train the model on our small Darcy-Flow dataset:\n\n"
      ]
    },
    {
      "cell_type": "code",
      "execution_count": null,
      "metadata": {
        "collapsed": false
      },
      "outputs": [],
      "source": [
        "trainer.train(train_loader=train_loader,\n              test_loaders=test_loaders,\n              optimizer=optimizer,\n              scheduler=scheduler, \n              regularizer=False, \n              training_loss=train_loss,\n              eval_losses=eval_losses)"
      ]
    },
    {
      "cell_type": "markdown",
      "metadata": {},
      "source": [
        "Visualizing predictions\n------------------------\nLet's take a look at what our model's predicted outputs look like. \nAgain note that in this example, we train on a very small resolution for\na very small number of epochs.\nIn practice, we would train at a larger resolution, on many more samples.\n\n"
      ]
    },
    {
      "cell_type": "code",
      "execution_count": null,
      "metadata": {
        "collapsed": false
      },
      "outputs": [],
      "source": [
        "test_samples = test_loaders[16].dataset\n\nfig = plt.figure(figsize=(7, 7))\nfor index in range(3):\n    data = test_samples[index]\n    data = data_processor.preprocess(data, batched=False)\n    # Input x\n    x = data['x']\n    # Ground-truth\n    y = data['y']\n    # Model prediction\n    out = model(x.unsqueeze(0))\n\n    ax = fig.add_subplot(3, 3, index*3 + 1)\n    ax.imshow(x[0], cmap='gray')\n    if index == 0: \n        ax.set_title('Input x')\n    plt.xticks([], [])\n    plt.yticks([], [])\n\n    ax = fig.add_subplot(3, 3, index*3 + 2)\n    ax.imshow(y.squeeze())\n    if index == 0: \n        ax.set_title('Ground-truth y')\n    plt.xticks([], [])\n    plt.yticks([], [])\n\n    ax = fig.add_subplot(3, 3, index*3 + 3)\n    ax.imshow(out.squeeze().detach().numpy())\n    if index == 0: \n        ax.set_title('Model prediction')\n    plt.xticks([], [])\n    plt.yticks([], [])\n\nfig.suptitle('Inputs, ground-truth output and prediction (16x16).', y=0.98)\nplt.tight_layout()\nfig.show()"
      ]
    },
    {
      "cell_type": "markdown",
      "metadata": {},
      "source": [
        ".. zero_shot :\nZero-shot super-evaluation\n---------------------------\nIn addition to training and making predictions on the same input size, \nthe FNO's invariance to the discretization of input data means we \ncan natively make predictions on higher-resolution inputs and get higher-resolution outputs.\n\n"
      ]
    },
    {
      "cell_type": "code",
      "execution_count": null,
      "metadata": {
        "collapsed": false
      },
      "outputs": [],
      "source": [
        "test_samples = test_loaders[32].dataset\n\nfig = plt.figure(figsize=(7, 7))\nfor index in range(3):\n    data = test_samples[index]\n    data = data_processor.preprocess(data, batched=False)\n    # Input x\n    x = data['x']\n    # Ground-truth\n    y = data['y']\n    # Model prediction\n    out = model(x.unsqueeze(0))\n\n    ax = fig.add_subplot(3, 3, index*3 + 1)\n    ax.imshow(x[0], cmap='gray')\n    if index == 0: \n        ax.set_title('Input x')\n    plt.xticks([], [])\n    plt.yticks([], [])\n\n    ax = fig.add_subplot(3, 3, index*3 + 2)\n    ax.imshow(y.squeeze())\n    if index == 0: \n        ax.set_title('Ground-truth y')\n    plt.xticks([], [])\n    plt.yticks([], [])\n\n    ax = fig.add_subplot(3, 3, index*3 + 3)\n    ax.imshow(out.squeeze().detach().numpy())\n    if index == 0: \n        ax.set_title('Model prediction')\n    plt.xticks([], [])\n    plt.yticks([], [])\n\nfig.suptitle('Inputs, ground-truth output and prediction (32x32).', y=0.98)\nplt.tight_layout()\nfig.show()"
      ]
    },
    {
      "cell_type": "markdown",
      "metadata": {},
      "source": [
        "We only trained the model on data at a resolution of 16x16, and with no modifications \nor special prompting, we were able to perform inference on higher-resolution input data \nand get higher-resolution predictions! In practice, we often want to evaluate neural operators\nat multiple resolutions to track a model's zero-shot super-evaluation performance throughout \ntraining. That's why many of our datasets, including the small Darcy-flow we showcased,\nare parameterized with a list of `test_resolutions` to choose from. \n\nHowever, as you can see, these predictions are noisier than we would expect for a model evaluated \nat the same resolution at which it was trained. Leveraging the FNO's discretization-invariance, there\nare other ways to scale the outputs of the FNO to train a true super-resolution capability. \n"
      ]
    }
  ],
  "metadata": {
    "kernelspec": {
      "display_name": "Python 3",
      "language": "python",
      "name": "python3"
    },
    "language_info": {
      "codemirror_mode": {
        "name": "ipython",
        "version": 3
      },
      "file_extension": ".py",
      "mimetype": "text/x-python",
      "name": "python",
      "nbconvert_exporter": "python",
      "pygments_lexer": "ipython3",
      "version": "3.13.3"
    }
  },
  "nbformat": 4,
  "nbformat_minor": 0
}