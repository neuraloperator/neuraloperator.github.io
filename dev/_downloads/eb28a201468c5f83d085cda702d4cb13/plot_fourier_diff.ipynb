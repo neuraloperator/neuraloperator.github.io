{
  "cells": [
    {
      "cell_type": "markdown",
      "metadata": {},
      "source": [
        "\n\n# Fourier Differentiation\nAn example of usage of our Fourier Differentiation Function on 1d data.\n"
      ]
    },
    {
      "cell_type": "markdown",
      "metadata": {},
      "source": [
        "## Import the library\nWe first import our `neuralop` library and required dependencies.\n\n"
      ]
    },
    {
      "cell_type": "code",
      "execution_count": null,
      "metadata": {
        "collapsed": false
      },
      "outputs": [],
      "source": [
        "import torch\nimport numpy as np\nimport matplotlib.pyplot as plt\nfrom neuralop.losses.fourier_diff import fourier_derivative_1d\n\ndevice = torch.device(\"cuda\" if torch.cuda.is_available() else \"cpu\")"
      ]
    },
    {
      "cell_type": "markdown",
      "metadata": {},
      "source": [
        "## Creating an example of periodic 1D curve\nHere we consider sin(x) and cos(x), which are periodic on the interval [0,2pi]\n\n"
      ]
    },
    {
      "cell_type": "code",
      "execution_count": null,
      "metadata": {
        "collapsed": false
      },
      "outputs": [],
      "source": [
        "L = 2*torch.pi\nx = torch.linspace(0, L, 101)[:-1]\nf = torch.stack([torch.sin(x), torch.cos(x)], dim=0)\nx_np = x.cpu().numpy()"
      ]
    },
    {
      "cell_type": "markdown",
      "metadata": {},
      "source": [
        "## Differentiate the signal\nWe use the Fourier differentiation function to differentiate the signal\n\n"
      ]
    },
    {
      "cell_type": "code",
      "execution_count": null,
      "metadata": {
        "collapsed": false
      },
      "outputs": [],
      "source": [
        "dfdx = fourier_derivative_1d(f, order=1, L=L)\ndf2dx2 = fourier_derivative_1d(f, order=2, L=L)\ndf3dx3 = fourier_derivative_1d(f, order=3, L=L)"
      ]
    },
    {
      "cell_type": "markdown",
      "metadata": {},
      "source": [
        "## Plot the results for sin(x)\n\n"
      ]
    },
    {
      "cell_type": "code",
      "execution_count": null,
      "metadata": {
        "collapsed": false
      },
      "outputs": [],
      "source": [
        "plt.figure()\nplt.plot(x_np, dfdx[0].squeeze().cpu().numpy(), label='Fourier dfdx')\nplt.plot(x_np, np.cos(x_np), '--', label='dfdx')\nplt.plot(x_np, df2dx2[0].squeeze().cpu().numpy(), label='Fourier df2dx2')\nplt.plot(x_np, -np.sin(x_np), '--', label='df2dx2')\nplt.plot(x_np, df3dx3[0].squeeze().cpu().numpy(), label='Fourier df3dx3')\nplt.plot(x_np, -np.cos(x_np), '--', label='df3dx3')\nplt.xlabel('x')\nplt.legend()\nplt.show()"
      ]
    },
    {
      "cell_type": "markdown",
      "metadata": {},
      "source": [
        "## Plot the results for cos(x)\n\n"
      ]
    },
    {
      "cell_type": "code",
      "execution_count": null,
      "metadata": {
        "collapsed": false
      },
      "outputs": [],
      "source": [
        "plt.figure()\nplt.plot(x_np, dfdx[1].squeeze().cpu().numpy(), label='Fourier dfdx')\nplt.plot(x_np, -np.sin(x_np), '--', label='dfdx')\nplt.plot(x_np, df2dx2[1].squeeze().cpu().numpy(), label='Fourier df2dx2')\nplt.plot(x_np, -np.cos(x_np), '--', label='df2dx2')\nplt.plot(x_np, df3dx3[1].squeeze().cpu().numpy(), label='Fourier df3dx3')\nplt.plot(x_np, np.sin(x_np), '--', label='df3dx3')\nplt.xlabel('x')\nplt.legend()\nplt.show()"
      ]
    },
    {
      "cell_type": "markdown",
      "metadata": {},
      "source": [
        "## Creating an example of non-periodic 1D curve\nHere we consider sin(16x)-cos(8x) and exp(-0.8x)+sin(x)\n\n"
      ]
    },
    {
      "cell_type": "code",
      "execution_count": null,
      "metadata": {
        "collapsed": false
      },
      "outputs": [],
      "source": [
        "L = 2*torch.pi\nx = torch.linspace(0, L, 101)[:-1]    \nf = torch.stack([torch.sin(3*x) - torch.cos(x), torch.exp(-0.8*x)+torch.sin(x)], dim=0)\nx_np = x.cpu().numpy()"
      ]
    },
    {
      "cell_type": "markdown",
      "metadata": {},
      "source": [
        "## Differentiate the signal\nWe use the Fourier differentiation function with Fourier continuation to differentiate the signal\n\n"
      ]
    },
    {
      "cell_type": "code",
      "execution_count": null,
      "metadata": {
        "collapsed": false
      },
      "outputs": [],
      "source": [
        "dfdx = fourier_derivative_1d(f, order=1, L=L, use_FC='Legendre', FC_d=4, FC_n_additional_pts=30)\ndf2dx2 = fourier_derivative_1d(f, order=2, L=L, use_FC='Legendre', FC_d=4, FC_n_additional_pts=30)"
      ]
    },
    {
      "cell_type": "markdown",
      "metadata": {},
      "source": [
        "## Plot the results for sin(16x)-cos(8x)\n\n"
      ]
    },
    {
      "cell_type": "code",
      "execution_count": null,
      "metadata": {
        "collapsed": false
      },
      "outputs": [],
      "source": [
        "plt.figure()\nplt.plot(x_np, dfdx[0].squeeze().cpu().numpy(), label='Fourier dfdx')\nplt.plot(x_np, 3*torch.cos(3*x) + torch.sin(x), '--', label='dfdx')\nplt.plot(x_np, df2dx2[0].squeeze().cpu().numpy(), label='Fourier df2dx2')\nplt.plot(x_np, -9*torch.sin(3*x) + torch.cos(x), '--', label='df2dx2')\nplt.xlabel('x')\nplt.legend()\nplt.show()"
      ]
    },
    {
      "cell_type": "markdown",
      "metadata": {},
      "source": [
        "## Plot the results for exp(-0.8x)+sin(x)\n\n"
      ]
    },
    {
      "cell_type": "code",
      "execution_count": null,
      "metadata": {
        "collapsed": false
      },
      "outputs": [],
      "source": [
        "plt.figure()\nplt.plot(x_np, dfdx[1].squeeze().cpu().numpy(), label='Fourier dfdx')\nplt.plot(x_np, -0.8*torch.exp(-0.8*x)+torch.cos(x), '--', label='dfdx')\nplt.plot(x_np, df2dx2[1].squeeze().cpu().numpy(), label='Fourier df2dx2')\nplt.plot(x_np, 0.64*torch.exp(-0.8*x)-torch.sin(x), '--', label='df2dx2')\nplt.xlabel('x')\nplt.legend()\nplt.show()"
      ]
    }
  ],
  "metadata": {
    "kernelspec": {
      "display_name": "Python 3",
      "language": "python",
      "name": "python3"
    },
    "language_info": {
      "codemirror_mode": {
        "name": "ipython",
        "version": 3
      },
      "file_extension": ".py",
      "mimetype": "text/x-python",
      "name": "python",
      "nbconvert_exporter": "python",
      "pygments_lexer": "ipython3",
      "version": "3.13.7"
    }
  },
  "nbformat": 4,
  "nbformat_minor": 0
}