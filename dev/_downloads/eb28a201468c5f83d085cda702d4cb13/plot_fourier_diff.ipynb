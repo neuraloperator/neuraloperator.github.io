{
  "cells": [
    {
      "cell_type": "markdown",
      "metadata": {},
      "source": [
        "\n\n# Fourier Differentiation\nAn example of usage of our Fourier Differentiation Function\n"
      ]
    },
    {
      "cell_type": "markdown",
      "metadata": {},
      "source": [
        "## Import the library\nWe first import our `neuralop` library and required dependencies.\n\n"
      ]
    },
    {
      "cell_type": "code",
      "execution_count": null,
      "metadata": {
        "collapsed": false
      },
      "outputs": [],
      "source": [
        "import torch\nimport numpy as np\nimport matplotlib.pyplot as plt\nfrom neuralop.losses.differentiation import FourierDiff\n\ndevice = torch.device(\"cuda\" if torch.cuda.is_available() else \"cpu\")"
      ]
    },
    {
      "cell_type": "markdown",
      "metadata": {},
      "source": [
        "## Creating an example of periodic 1D curve\nHere we consider sin(x) and cos(x), which are periodic on the interval [0, 2\u03c0]\n\n"
      ]
    },
    {
      "cell_type": "code",
      "execution_count": null,
      "metadata": {
        "collapsed": false
      },
      "outputs": [],
      "source": [
        "L = 2 * torch.pi\nx = torch.linspace(0, L, 101)[:-1]\nf = torch.stack([torch.sin(x), torch.cos(x)], dim=0)\nx_np = x.cpu().numpy()"
      ]
    },
    {
      "cell_type": "markdown",
      "metadata": {},
      "source": [
        "## Differentiate the signal\nWe use the FourierDiff class to differentiate the signal\n\n"
      ]
    },
    {
      "cell_type": "code",
      "execution_count": null,
      "metadata": {
        "collapsed": false
      },
      "outputs": [],
      "source": [
        "fd1d = FourierDiff(dim=1, L=L, use_fc=False)\nderivatives = fd1d.compute_multiple_derivatives(f, [1, 2, 3])\ndfdx, df2dx2, df3dx3 = derivatives"
      ]
    },
    {
      "cell_type": "markdown",
      "metadata": {},
      "source": [
        "## Plot the results for sin(x)\n\n"
      ]
    },
    {
      "cell_type": "code",
      "execution_count": null,
      "metadata": {
        "collapsed": false
      },
      "outputs": [],
      "source": [
        "plt.figure()\nplt.plot(x_np, dfdx[0].squeeze().cpu().numpy(), label='Fourier dfdx')\nplt.plot(x_np, np.cos(x_np), '--', label='dfdx')\nplt.plot(x_np, df2dx2[0].squeeze().cpu().numpy(), label='Fourier df2dx2')\nplt.plot(x_np, -np.sin(x_np), '--', label='df2dx2')\nplt.plot(x_np, df3dx3[0].squeeze().cpu().numpy(), label='Fourier df3dx3')\nplt.plot(x_np, -np.cos(x_np), '--', label='df3dx3')\nplt.xlabel('x')\nplt.legend()\nplt.show()"
      ]
    },
    {
      "cell_type": "markdown",
      "metadata": {},
      "source": [
        "## Plot the results for cos(x)\n\n"
      ]
    },
    {
      "cell_type": "code",
      "execution_count": null,
      "metadata": {
        "collapsed": false
      },
      "outputs": [],
      "source": [
        "plt.figure()\nplt.plot(x_np, dfdx[1].squeeze().cpu().numpy(), label='Fourier dfdx')\nplt.plot(x_np, -np.sin(x_np), '--', label='dfdx')\nplt.plot(x_np, df2dx2[1].squeeze().cpu().numpy(), label='Fourier df2dx2')\nplt.plot(x_np, -np.cos(x_np), '--', label='df2dx2')\nplt.plot(x_np, df3dx3[1].squeeze().cpu().numpy(), label='Fourier df3dx3')\nplt.plot(x_np, np.sin(x_np), '--', label='df3dx3')\nplt.xlabel('x')\nplt.legend()\nplt.show()"
      ]
    },
    {
      "cell_type": "markdown",
      "metadata": {},
      "source": [
        "## Creating an example of non-periodic 1D curve\nHere we consider sin(3x)-cos(x) and exp(-0.8x)+sin(x)\n\n"
      ]
    },
    {
      "cell_type": "code",
      "execution_count": null,
      "metadata": {
        "collapsed": false
      },
      "outputs": [],
      "source": [
        "L = 2 * torch.pi\nx = torch.linspace(0, L, 101)[:-1]\nf = torch.stack([torch.sin(3*x) - torch.cos(x), torch.exp(-0.8*x) + torch.sin(x)], dim=0)\nx_np = x.cpu().numpy()"
      ]
    },
    {
      "cell_type": "markdown",
      "metadata": {},
      "source": [
        "## Differentiate the signal\nWe use the FourierDiff class with Fourier continuation to differentiate the signal\n\n"
      ]
    },
    {
      "cell_type": "code",
      "execution_count": null,
      "metadata": {
        "collapsed": false
      },
      "outputs": [],
      "source": [
        "fd1d = FourierDiff(dim=1, L=L, use_fc='Legendre', fc_degree=4, fc_n_additional_pts=50)\nderivatives = fd1d.compute_multiple_derivatives(f, [1, 2])\ndfdx, df2dx2 = derivatives"
      ]
    },
    {
      "cell_type": "markdown",
      "metadata": {},
      "source": [
        "## Plot the results for sin(3x)-cos(x)\n\n"
      ]
    },
    {
      "cell_type": "code",
      "execution_count": null,
      "metadata": {
        "collapsed": false
      },
      "outputs": [],
      "source": [
        "plt.figure()\nplt.plot(x_np, dfdx[0].squeeze().cpu().numpy(), label='Fourier dfdx')\nplt.plot(x_np, 3*torch.cos(3*x) + torch.sin(x), '--', label='dfdx')\nplt.plot(x_np, df2dx2[0].squeeze().cpu().numpy(), label='Fourier df2dx2')\nplt.plot(x_np, -9*torch.sin(3*x) + torch.cos(x), '--', label='df2dx2')\nplt.xlabel('x')\nplt.legend()\nplt.show()"
      ]
    },
    {
      "cell_type": "markdown",
      "metadata": {},
      "source": [
        "## Plot the results for exp(-0.8x)+sin(x)\n\n"
      ]
    },
    {
      "cell_type": "code",
      "execution_count": null,
      "metadata": {
        "collapsed": false
      },
      "outputs": [],
      "source": [
        "plt.figure()\nplt.plot(x_np, dfdx[1].squeeze().cpu().numpy(), label='Fourier dfdx')\nplt.plot(x_np, -0.8*torch.exp(-0.8*x)+torch.cos(x), '--', label='dfdx')\nplt.plot(x_np, df2dx2[1].squeeze().cpu().numpy(), label='Fourier df2dx2')\nplt.plot(x_np, 0.64*torch.exp(-0.8*x)-torch.sin(x), '--', label='df2dx2')\nplt.xlabel('x')\nplt.legend()\nplt.show()"
      ]
    },
    {
      "cell_type": "markdown",
      "metadata": {},
      "source": [
        "# 2D Fourier Differentiation Examples\nHere we demonstrate the FourierDiff class for 2D functions\n\n"
      ]
    },
    {
      "cell_type": "markdown",
      "metadata": {},
      "source": [
        "## Creating an example of periodic 2D function\nHere we consider f(x,y) = sin(x) * cos(y), which is periodic on the interval [0, 2\u03c0] \u00d7 [0, 2\u03c0]\n\n"
      ]
    },
    {
      "cell_type": "code",
      "execution_count": null,
      "metadata": {
        "collapsed": false
      },
      "outputs": [],
      "source": [
        "L_x, L_y = 2 * torch.pi, 2 * torch.pi\nnx, ny = 180, 186\nx = torch.linspace(0, L_x, nx, dtype=torch.float64)\ny = torch.linspace(0, L_y, ny, dtype=torch.float64)\nX, Y = torch.meshgrid(x, y, indexing='ij')\n\n# Test function: f(x,y) = sin(x) * cos(y)\nf_2d = torch.sin(X) * torch.cos(Y)"
      ]
    },
    {
      "cell_type": "markdown",
      "metadata": {},
      "source": [
        "## Differentiate the 2D signal\nWe use the FourierDiff class to compute derivatives\n\n"
      ]
    },
    {
      "cell_type": "code",
      "execution_count": null,
      "metadata": {
        "collapsed": false
      },
      "outputs": [],
      "source": [
        "fd2d = FourierDiff(dim=2, L=(L_x, L_y))\n\n# Compute derivatives\ndf_dx = fd2d.dx(f_2d)\ndf_dy = fd2d.dy(f_2d)\nlaplacian = fd2d.laplacian(f_2d)\n\n# Expected analytical results for f(x,y) = sin(x) * cos(y)\ndf_dx_expected = torch.cos(X) * torch.cos(Y)  \ndf_dy_expected = -torch.sin(X) * torch.sin(Y)  \nlaplacian_expected = -2 * torch.sin(X) * torch.cos(Y)"
      ]
    },
    {
      "cell_type": "markdown",
      "metadata": {},
      "source": [
        "## Plot the 2D results\n\n"
      ]
    },
    {
      "cell_type": "code",
      "execution_count": null,
      "metadata": {
        "collapsed": false
      },
      "outputs": [],
      "source": [
        "fig, axes = plt.subplots(2, 3, figsize=(15, 10))\nfig.suptitle('2D Fourier Differentiation Results: f(x,y) = sin(x) * cos(y)')\n\n# Compute consistent colorbar limits for each derivative pair\ndf_dx_min = min(df_dx.min().item(), df_dx_expected.min().item())\ndf_dx_max = max(df_dx.max().item(), df_dx_expected.max().item())\ndf_dy_min = min(df_dy.min().item(), df_dy_expected.min().item())\ndf_dy_max = max(df_dy.max().item(), df_dy_expected.max().item())\n\n# Original function\nim0 = axes[0, 0].imshow(f_2d.cpu().numpy())\naxes[0, 0].set_title('Original: sin(x) * cos(y)')\nplt.colorbar(im0, ax=axes[0, 0], shrink=0.57)\n\n# \u2202f/\u2202x computed\nim1 = axes[0, 1].imshow(df_dx.cpu().numpy(), vmin=df_dx_min, vmax=df_dx_max)\naxes[0, 1].set_title('\u2202f/\u2202x (computed)')\nplt.colorbar(im1, ax=axes[0, 1], shrink=0.57)\n\n# \u2202f/\u2202x expected\nim2 = axes[0, 2].imshow(df_dx_expected.cpu().numpy(), vmin=df_dx_min, vmax=df_dx_max)\naxes[0, 2].set_title('\u2202f/\u2202x (expected: cos(x) * cos(y))')\nplt.colorbar(im2, ax=axes[0, 2], shrink=0.57)\n\n# \u2202f/\u2202y computed\nim3 = axes[1, 0].imshow(df_dy.cpu().numpy(), vmin=df_dy_min, vmax=df_dy_max)\naxes[1, 0].set_title('\u2202f/\u2202y (computed)')\nplt.colorbar(im3, ax=axes[1, 0], shrink=0.57)\n\n# \u2202f/\u2202y expected\nim4 = axes[1, 1].imshow(df_dy_expected.cpu().numpy(), vmin=df_dy_min, vmax=df_dy_max)\naxes[1, 1].set_title('\u2202f/\u2202y (expected: -sin(x) * sin(y))')\nplt.colorbar(im4, ax=axes[1, 1], shrink=0.57)\n\n# Laplacian\nim5 = axes[1, 2].imshow(laplacian.cpu().numpy())\naxes[1, 2].set_title('\u2207\u00b2f (computed)')\nplt.colorbar(im5, ax=axes[1, 2], shrink=0.57)\n\nplt.tight_layout()\nplt.show()"
      ]
    },
    {
      "cell_type": "markdown",
      "metadata": {},
      "source": [
        "# 3D Fourier Differentiation Examples\nHere we demonstrate the FourierDiff class for 3D functions\n\n"
      ]
    },
    {
      "cell_type": "markdown",
      "metadata": {},
      "source": [
        "## Creating an example of periodic 3D function\nHere we consider f(x,y,z) = sin(x) * cos(y) * sin(z), which is periodic on [0, 2\u03c0]\u00b3\n\n"
      ]
    },
    {
      "cell_type": "code",
      "execution_count": null,
      "metadata": {
        "collapsed": false
      },
      "outputs": [],
      "source": [
        "L_x, L_y, L_z = 2 * torch.pi, 2 * torch.pi, 2 * torch.pi\nnx, ny, nz = 176, 180, 192\nx = torch.linspace(0, L_x, nx, dtype=torch.float64)\ny = torch.linspace(0, L_y, ny, dtype=torch.float64)\nz = torch.linspace(0, L_z, nz, dtype=torch.float64)\nX, Y, Z = torch.meshgrid(x, y, z, indexing='ij')\n\n# Test function: f(x,y,z) = sin(x) * cos(y) * sin(z)\nf_3d = torch.sin(X) * torch.cos(Y) * torch.sin(Z)\n\n# Alternative: create tensor directly like in the test\nf_3d_alt = torch.randn(nx, ny, nz, dtype=torch.float64)"
      ]
    },
    {
      "cell_type": "markdown",
      "metadata": {},
      "source": [
        "## Differentiate the 3D signal\nWe use the FourierDiff class to compute derivatives\n\n"
      ]
    },
    {
      "cell_type": "code",
      "execution_count": null,
      "metadata": {
        "collapsed": false
      },
      "outputs": [],
      "source": [
        "fd3d = FourierDiff(dim=3, L=(L_x, L_y, L_z))\n\n# Compute derivatives\ndf_dx_3d = fd3d.dx(f_3d)\ndf_dy_3d = fd3d.dy(f_3d)\ndf_dz_3d = fd3d.dz(f_3d)\nlaplacian_3d = fd3d.laplacian(f_3d)\n\n# Expected analytical results for f(x,y,z) = sin(x) * cos(y) * sin(z)\ndf_dx_expected_3d = torch.cos(X) * torch.cos(Y) * torch.sin(Z) \ndf_dy_expected_3d = -torch.sin(X) * torch.sin(Y) * torch.sin(Z) \ndf_dz_expected_3d = torch.sin(X) * torch.cos(Y) * torch.cos(Z) \nlaplacian_expected_3d = -3 * torch.sin(X) * torch.cos(Y) * torch.sin(Z)"
      ]
    },
    {
      "cell_type": "markdown",
      "metadata": {},
      "source": [
        "## Plot a slice of the 3D results (z=0 plane)\n\n"
      ]
    },
    {
      "cell_type": "code",
      "execution_count": null,
      "metadata": {
        "collapsed": false
      },
      "outputs": [],
      "source": [
        "z_slice_idx = nz // 2\nfig, axes = plt.subplots(2, 3, figsize=(18, 12))\nfig.suptitle('3D Fourier Differentiation Results (z=0 slice): f(x,y,z) = sin(x) * cos(y) * sin(z)')\n\n# Compute consistent colorbar limits for each derivative pair at the z-slice\ndf_dx_3d_slice = df_dx_3d[:, :, z_slice_idx]\ndf_dx_expected_3d_slice = df_dx_expected_3d[:, :, z_slice_idx]\ndf_dy_3d_slice = df_dy_3d[:, :, z_slice_idx]\ndf_dy_expected_3d_slice = df_dy_expected_3d[:, :, z_slice_idx]\n\ndf_dx_3d_min = min(df_dx_3d_slice.min().item(), df_dx_expected_3d_slice.min().item())\ndf_dx_3d_max = max(df_dx_3d_slice.max().item(), df_dx_expected_3d_slice.max().item())\ndf_dy_3d_min = min(df_dy_3d_slice.min().item(), df_dy_expected_3d_slice.min().item())\ndf_dy_3d_max = max(df_dy_3d_slice.max().item(), df_dy_expected_3d_slice.max().item())\n\n# Original function slice\nim0 = axes[0, 0].imshow(f_3d[:, :, z_slice_idx].cpu().numpy())\naxes[0, 0].set_title('Original: sin(x) * cos(y) * sin(z)')\nplt.colorbar(im0, ax=axes[0, 0], shrink=0.57)\n\n# \u2202f/\u2202x slice\nim1 = axes[0, 1].imshow(df_dx_3d_slice.cpu().numpy(), vmin=df_dx_3d_min, vmax=df_dx_3d_max)\naxes[0, 1].set_title('\u2202f/\u2202x (computed)')\nplt.colorbar(im1, ax=axes[0, 1], shrink=0.57)\n\n# \u2202f/\u2202x expected slice\nim2 = axes[0, 2].imshow(df_dx_expected_3d_slice.cpu().numpy(), vmin=df_dx_3d_min, vmax=df_dx_3d_max)\naxes[0, 2].set_title('\u2202f/\u2202x (expected: cos(x) * cos(y) * sin(z))')\nplt.colorbar(im2, ax=axes[0, 2], shrink=0.57)\n\n# \u2202f/\u2202y slice\nim3 = axes[1, 0].imshow(df_dy_3d_slice.cpu().numpy(), vmin=df_dy_3d_min, vmax=df_dy_3d_max)\naxes[1, 0].set_title('\u2202f/\u2202y (computed)')\nplt.colorbar(im3, ax=axes[1, 0], shrink=0.57)\n\n# \u2202f/\u2202y expected slice\nim4 = axes[1, 1].imshow(df_dy_expected_3d_slice.cpu().numpy(), vmin=df_dy_3d_min, vmax=df_dy_3d_max)\naxes[1, 1].set_title('\u2202f/\u2202y (expected: -sin(x) * sin(y) * sin(z))')\nplt.colorbar(im4, ax=axes[1, 1], shrink=0.57)\n\n# \u2202f/\u2202z slice\nim5 = axes[1, 2].imshow(df_dz_3d[:, :, z_slice_idx].cpu().numpy())\naxes[1, 2].set_title('\u2202f/\u2202z (computed)')\nplt.colorbar(im5, ax=axes[1, 2], shrink=0.57)\n\nplt.tight_layout()\nplt.show()"
      ]
    }
  ],
  "metadata": {
    "kernelspec": {
      "display_name": "Python 3",
      "language": "python",
      "name": "python3"
    },
    "language_info": {
      "codemirror_mode": {
        "name": "ipython",
        "version": 3
      },
      "file_extension": ".py",
      "mimetype": "text/x-python",
      "name": "python",
      "nbconvert_exporter": "python",
      "pygments_lexer": "ipython3",
      "version": "3.13.7"
    }
  },
  "nbformat": 4,
  "nbformat_minor": 0
}