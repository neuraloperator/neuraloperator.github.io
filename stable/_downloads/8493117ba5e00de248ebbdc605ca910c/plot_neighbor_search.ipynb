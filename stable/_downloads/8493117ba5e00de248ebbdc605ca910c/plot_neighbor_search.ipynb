{
  "cells": [
    {
      "cell_type": "markdown",
      "metadata": {},
      "source": [
        "\n# Neighbor Search for Graph Neural Operators\n\nThis tutorial demonstrates neighbor search algorithms used in Graph Neural Operators (GNO).\nNeighbor search is crucial for:\n\n- Finding spatial relationships in irregular point clouds\n- Computing Nystr\u00f6m approximations of kernel integrals\n- Enabling GNO to work with arbitrary point cloud data\n- Implementing efficient spatial queries for neural operators\n\nThe tutorial covers the `native_neighbor_search` function and its role in GNO architectures.\n"
      ]
    },
    {
      "cell_type": "markdown",
      "metadata": {},
      "source": [
        ".. raw:: html\n\n   <div style=\"margin-top: 3em;\"></div>\n\n## Import dependencies\nWe import the necessary modules for neighbor search and visualization\n\n"
      ]
    },
    {
      "cell_type": "code",
      "execution_count": null,
      "metadata": {
        "collapsed": false
      },
      "outputs": [],
      "source": [
        "import random\nimport matplotlib.pyplot as plt\nimport torch\n\nfrom neuralop.layers.gno_block import GNOBlock\nfrom neuralop.layers.neighbor_search import native_neighbor_search\nfrom neuralop.layers.embeddings import regular_grid_2d\n\ndevice = 'cpu'"
      ]
    },
    {
      "cell_type": "markdown",
      "metadata": {},
      "source": [
        ".. raw:: html\n\n   <div style=\"margin-top: 3em;\"></div>\n\n## Understanding Graph Neural Operators and neighbor search\nMany problems involve data collected over irregular point clouds.\nThe Graph Neural Operator (GNO) is a neural operator architecture\nthat learns mappings between functions evaluated on arbitrary point clouds.\n\nFor input coordinates Y, input function f evaluated at all y \u2208 Y, \nand output coordinates X, our goal is to map to function g evaluated at all x \u2208 X.\nThe GNO computes the Nystr\u00f6m approximation of a continuous kernel integral:\n\u222b_{N_r(x)} f(y) k(x,y) dy\n\nThe first step is neighbor search to find spatial relationships.\n\n"
      ]
    },
    {
      "cell_type": "markdown",
      "metadata": {},
      "source": [
        ".. raw:: html\n\n   <div style=\"margin-top: 3em;\"></div>\n\n## Setting up the point cloud data\nWe create a regular grid of input coordinates and random output query points\nto demonstrate the neighbor search functionality.\n\n"
      ]
    },
    {
      "cell_type": "code",
      "execution_count": null,
      "metadata": {
        "collapsed": false
      },
      "outputs": [],
      "source": [
        "# Create a regular 8x8 grid of input coordinates\ninput_coords = torch.stack(regular_grid_2d(spatial_dims=(8,8))).permute(1,2,0).view(-1,2)\n\n# Generate random output query points\noutput_queries = torch.rand([50, 2])\n\n# Visualize the input coordinates and query points\nplt.scatter(input_coords[:, 0], input_coords[:, 1], color='orange', label=\"Input coordinates\", s=50)\nplt.scatter(output_queries[:, 0], output_queries[:, 1], color='blue', label=\"Output queries\", s=30)\nplt.legend()\nplt.title(\"Input coordinates and output query points\")\nplt.xlabel(\"x\")\nplt.ylabel(\"y\")\nplt.show()"
      ]
    },
    {
      "cell_type": "markdown",
      "metadata": {},
      "source": [
        ".. raw:: html\n\n   <div style=\"margin-top: 3em;\"></div>\n\n## Performing neighbor search\nWe select a query point and find all input coordinates within a specified radius.\nThis demonstrates how the neighbor search algorithm identifies spatial relationships.\n\n"
      ]
    },
    {
      "cell_type": "code",
      "execution_count": null,
      "metadata": {
        "collapsed": false
      },
      "outputs": [],
      "source": [
        "query_index = 6\nquery_point = output_queries[query_index]\n\n# Perform neighbor search with radius 0.25\n# Note: This radius is relatively large for our data density.\n# In practice, we typically use values that find around 10 neighbors.\nnbr_data = native_neighbor_search(data=input_coords, queries=query_point.unsqueeze(0), radius=0.25)"
      ]
    },
    {
      "cell_type": "markdown",
      "metadata": {},
      "source": [
        ".. raw:: html\n\n   <div style=\"margin-top: 3em;\"></div>\n\n## Visualizing the neighbor search results\nWe plot the query point, its neighbors, and the search radius to understand\nhow the neighbor search algorithm works.\n\n"
      ]
    },
    {
      "cell_type": "code",
      "execution_count": null,
      "metadata": {
        "collapsed": false
      },
      "outputs": [],
      "source": [
        "fig, ax = plt.subplots()\nneighbors = input_coords[nbr_data['neighbors_index']]\nax.scatter(input_coords[:, 0], input_coords[:, 1], color='blue', label=\"Input coordinates\")\nax.scatter(query_point[0], query_point[1], color='red', marker='*', s=200, label=\"Query point\")\nax.scatter(neighbors[:, 0], neighbors[:, 1], color='green', label=\"Neighbors of query\")\nc = plt.Circle(query_point, radius=0.25, fill=False)\nax.add_patch(c)\n\nax.legend()\nax.set_xlim(0,1)\nax.set_ylim(0,1)"
      ]
    }
  ],
  "metadata": {
    "kernelspec": {
      "display_name": "Python 3",
      "language": "python",
      "name": "python3"
    },
    "language_info": {
      "codemirror_mode": {
        "name": "ipython",
        "version": 3
      },
      "file_extension": ".py",
      "mimetype": "text/x-python",
      "name": "python",
      "nbconvert_exporter": "python",
      "pygments_lexer": "ipython3",
      "version": "3.13.7"
    }
  },
  "nbformat": 4,
  "nbformat_minor": 0
}